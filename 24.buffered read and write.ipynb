{
 "cells": [
  {
   "cell_type": "markdown",
   "metadata": {},
   "source": [
    "### Buffered Read and write other file methods"
   ]
  },
  {
   "cell_type": "code",
   "execution_count": 1,
   "metadata": {},
   "outputs": [],
   "source": [
    "import io"
   ]
  },
  {
   "cell_type": "code",
   "execution_count": 5,
   "metadata": {},
   "outputs": [],
   "source": [
    "with open('test1.txt','wb') as f:\n",
    "    file = io.BufferedWriter(f)\n",
    "\n",
    "    file.write(b\"this is my first line\\n\")\n",
    "    file.write(b'this is my second line')\n",
    "\n",
    "    file.flush()     # buffer ke case me hame close krne ke liye flush ka use krna h\n"
   ]
  },
  {
   "cell_type": "code",
   "execution_count": 6,
   "metadata": {},
   "outputs": [],
   "source": [
    "# buffer ka use karte h bhut bde data ko chhota karne me "
   ]
  },
  {
   "cell_type": "code",
   "execution_count": 9,
   "metadata": {},
   "outputs": [
    {
     "name": "stdout",
     "output_type": "stream",
     "text": [
      "b'this is my first line\\nthis is my second line'\n"
     ]
    }
   ],
   "source": [
    "with open('test1.txt','rb') as f:\n",
    "    file = io.BufferedReader(f)\n",
    "    data = file.read()\n",
    "    print(data)"
   ]
  },
  {
   "cell_type": "code",
   "execution_count": 10,
   "metadata": {},
   "outputs": [],
   "source": [
    "# ham size v defined kar skte h , kitne bite data hme read karna h"
   ]
  },
  {
   "cell_type": "code",
   "execution_count": 11,
   "metadata": {},
   "outputs": [
    {
     "name": "stdout",
     "output_type": "stream",
     "text": [
      "b'this is my'\n"
     ]
    }
   ],
   "source": [
    "with open('test1.txt','rb') as f:\n",
    "    file = io.BufferedReader(f)\n",
    "    data = file.read(10)\n",
    "    print(data)"
   ]
  },
  {
   "cell_type": "code",
   "execution_count": 12,
   "metadata": {},
   "outputs": [
    {
     "name": "stdout",
     "output_type": "stream",
     "text": [
      "b'this is my first line\\nthis is my second line'\n"
     ]
    }
   ],
   "source": [
    "with open('test1.txt','rb') as f:\n",
    "    file = io.BufferedReader(f)\n",
    "    data = file.read(60)\n",
    "    print(data)"
   ]
  },
  {
   "cell_type": "code",
   "execution_count": null,
   "metadata": {},
   "outputs": [],
   "source": []
  }
 ],
 "metadata": {
  "kernelspec": {
   "display_name": "Python 3",
   "language": "python",
   "name": "python3"
  },
  "language_info": {
   "codemirror_mode": {
    "name": "ipython",
    "version": 3
   },
   "file_extension": ".py",
   "mimetype": "text/x-python",
   "name": "python",
   "nbconvert_exporter": "python",
   "pygments_lexer": "ipython3",
   "version": "3.11.5"
  }
 },
 "nbformat": 4,
 "nbformat_minor": 2
}
