{
 "cells": [
  {
   "cell_type": "code",
   "execution_count": 4,
   "metadata": {},
   "outputs": [],
   "source": [
    "from bs4 import BeautifulSoup as bs\n",
    "from urllib.request import urlopen as uReq\n",
    "import logging\n",
    "import requests"
   ]
  },
  {
   "cell_type": "code",
   "execution_count": 7,
   "metadata": {},
   "outputs": [],
   "source": [
    "flipkart_url = \"https://www.flipkart.com/search?q=\" + \"iphone14\""
   ]
  },
  {
   "cell_type": "code",
   "execution_count": 9,
   "metadata": {},
   "outputs": [
    {
     "data": {
      "text/plain": [
       "'\\nphla vala url base url h  + dusra vala parameter h , \\njo user search karta h\\n\\n# base url yek hi rhega , jiske through ham parameter de kar result ko payenge\\n'"
      ]
     },
     "execution_count": 9,
     "metadata": {},
     "output_type": "execute_result"
    }
   ],
   "source": [
    "\"\"\"\n",
    "phla vala url base url h  + dusra vala parameter h , \n",
    "jo user search karta h\n",
    "\n",
    "# base url yek hi rhega , jiske through ham parameter de kar result ko payenge\n",
    "\"\"\""
   ]
  },
  {
   "cell_type": "code",
   "execution_count": 8,
   "metadata": {},
   "outputs": [
    {
     "data": {
      "text/plain": [
       "'https://www.flipkart.com/search?q=iphone14'"
      ]
     },
     "execution_count": 8,
     "metadata": {},
     "output_type": "execute_result"
    }
   ],
   "source": [
    "flipkart_url"
   ]
  },
  {
   "cell_type": "code",
   "execution_count": 10,
   "metadata": {},
   "outputs": [],
   "source": [
    "# ham output pa rhe h jo image me dikh rha h"
   ]
  },
  {
   "cell_type": "markdown",
   "metadata": {},
   "source": [
    "![web scrapping output1](https://github.com/anu78600/Learning/assets/123054203/7aa0ef1e-68f9-4ccc-855a-d14fac5f7c32)"
   ]
  },
  {
   "cell_type": "code",
   "execution_count": 11,
   "metadata": {},
   "outputs": [],
   "source": [
    "# abhi to hme link pr click karna pdh rha h, pr ham nhi chahte ki vo v karna pdhe\n",
    "\n",
    "# uske liye ham use krenge urlopen liberary ko\n"
   ]
  },
  {
   "cell_type": "code",
   "execution_count": 25,
   "metadata": {},
   "outputs": [],
   "source": [
    "urlclient  = uReq(flipkart_url)"
   ]
  },
  {
   "cell_type": "code",
   "execution_count": 26,
   "metadata": {},
   "outputs": [
    {
     "data": {
      "text/plain": [
       "<http.client.HTTPResponse at 0x1226764f520>"
      ]
     },
     "execution_count": 26,
     "metadata": {},
     "output_type": "execute_result"
    }
   ],
   "source": [
    "urlclient"
   ]
  },
  {
   "cell_type": "code",
   "execution_count": 27,
   "metadata": {},
   "outputs": [],
   "source": [
    "#urlclient.read()"
   ]
  },
  {
   "cell_type": "code",
   "execution_count": 28,
   "metadata": {},
   "outputs": [],
   "source": [
    "flipkart_page = urlclient.read()"
   ]
  },
  {
   "cell_type": "code",
   "execution_count": null,
   "metadata": {},
   "outputs": [],
   "source": [
    "flipkart_page"
   ]
  },
  {
   "cell_type": "markdown",
   "metadata": {},
   "source": [
    "![flipkart_page data image](https://github.com/anu78600/Learning/assets/123054203/275e22ff-1d79-4d78-b331-cc7d8dceb42a)"
   ]
  },
  {
   "cell_type": "code",
   "execution_count": 30,
   "metadata": {},
   "outputs": [],
   "source": [
    "# data to hamne nikala ar read v karvaya , par ye human redeable format me nhi h"
   ]
  },
  {
   "cell_type": "code",
   "execution_count": 33,
   "metadata": {},
   "outputs": [],
   "source": [
    "flipkart_html = bs(flipkart_page,\"html.parser\")"
   ]
  },
  {
   "cell_type": "code",
   "execution_count": 32,
   "metadata": {},
   "outputs": [],
   "source": [
    "# beautyful shop yek esa libery h , jo ki jo v data ham pdhte h ,\n",
    "# usko beautfy karta h"
   ]
  },
  {
   "cell_type": "code",
   "execution_count": null,
   "metadata": {},
   "outputs": [],
   "source": [
    "flipkart_html"
   ]
  },
  {
   "cell_type": "markdown",
   "metadata": {},
   "source": [
    "![flipkart_html data beautification](https://github.com/anu78600/Learning/assets/123054203/0f78159a-34ac-4dc7-8fc4-12723f4cf567)"
   ]
  },
  {
   "cell_type": "code",
   "execution_count": 35,
   "metadata": {},
   "outputs": [],
   "source": [
    "# ab ham dekhenge ki real scrapping kaise karte h , \n",
    "\n",
    "# uske liye ham phle uska source code me jate h , \n",
    "\n",
    "#vha se step by step,data ko apne apne according scrap krte h."
   ]
  },
  {
   "cell_type": "markdown",
   "metadata": {},
   "source": [
    "![Screenshot (6)](https://github.com/anu78600/Learning/assets/123054203/d93b0b57-610c-4b91-a1ba-aeedc962f62b)"
   ]
  },
  {
   "cell_type": "code",
   "execution_count": 36,
   "metadata": {},
   "outputs": [
    {
     "data": {
      "text/plain": [
       "'https://www.flipkart.com/apple-iphone-14-blue-128-gb/p/itmdb77f40da6b6d?pid=MOBGHWFHSV7GUFWA&lid=LSTMOBGHWFHSV7GUFWAC4ZPNA&marketplace=FLIPKART&q=iphone14&store=tyy%2F4io&spotlightTagId=BestsellerId_tyy%2F4io&srno=s_1_1&otracker=search&fm=organic&iid=916b15f4-9511-4861-988f-56f5cc09dbab.MOBGHWFHSV7GUFWA.SEARCH&ppt=sp&ppn=sp&ssid=4ow8fr3s3k0000001702808151902&qH=694e31eb1200eb29'"
      ]
     },
     "execution_count": 36,
     "metadata": {},
     "output_type": "execute_result"
    }
   ],
   "source": [
    "\"https://www.flipkart.com/\" + \"apple-iphone-14-blue-128-gb/p/itmdb77f40da6b6d?pid=MOBGHWFHSV7GUFWA&lid=LSTMOBGHWFHSV7GUFWAC4ZPNA&marketplace=FLIPKART&q=iphone14&store=tyy%2F4io&spotlightTagId=BestsellerId_tyy%2F4io&srno=s_1_1&otracker=search&fm=organic&iid=916b15f4-9511-4861-988f-56f5cc09dbab.MOBGHWFHSV7GUFWA.SEARCH&ppt=sp&ppn=sp&ssid=4ow8fr3s3k0000001702808151902&qH=694e31eb1200eb29\""
   ]
  },
  {
   "cell_type": "code",
   "execution_count": 37,
   "metadata": {},
   "outputs": [],
   "source": [
    "# iss url se ham directly product pr chle ja rhe h."
   ]
  },
  {
   "cell_type": "markdown",
   "metadata": {},
   "source": [
    "![Screenshot (7)](https://github.com/anu78600/Learning/assets/123054203/22ac1dc5-f5dd-4590-81a0-009893c32c2a)"
   ]
  },
  {
   "cell_type": "code",
   "execution_count": 38,
   "metadata": {},
   "outputs": [],
   "source": [
    "# isi trh ham sbhi required product ke data ko nikal skte h"
   ]
  },
  {
   "cell_type": "code",
   "execution_count": 39,
   "metadata": {},
   "outputs": [],
   "source": [
    "# ye sara link generation ar product tkk phuchna , sb kuch hamne manually kiya h.\n",
    "\n",
    "# ab ham isko automatic kaise krenge ,"
   ]
  },
  {
   "cell_type": "code",
   "execution_count": 43,
   "metadata": {},
   "outputs": [],
   "source": [
    "# find se ham koi v tag html ka pa skte h\n",
    "\n",
    "bigbox = flipkart_html.find_all(\"div\",{\"class\":\"_1AtVbE col-12-12\"})"
   ]
  },
  {
   "cell_type": "code",
   "execution_count": 44,
   "metadata": {},
   "outputs": [
    {
     "data": {
      "text/plain": [
       "30"
      ]
     },
     "execution_count": 44,
     "metadata": {},
     "output_type": "execute_result"
    }
   ],
   "source": [
    "len(bigbox)"
   ]
  },
  {
   "cell_type": "code",
   "execution_count": 59,
   "metadata": {},
   "outputs": [],
   "source": [
    "del bigbox[0:3]"
   ]
  },
  {
   "cell_type": "code",
   "execution_count": 60,
   "metadata": {},
   "outputs": [],
   "source": [
    "# iske baad ham krenge kya ki , step wise data ke andr jate jatenge,\n",
    "# jab tkk ki required data ko ham pa nhi jate"
   ]
  },
  {
   "cell_type": "code",
   "execution_count": 66,
   "metadata": {},
   "outputs": [
    {
     "data": {
      "text/plain": [
       "'/apple-iphone-14-midnight-256-gb/p/itmdb32e3c997112?pid=MOBGHWFH4H3MMRAA&lid=LSTMOBGHWFH4H3MMRAALZC9PE&marketplace=FLIPKART&q=iphone14&store=tyy%2F4io&srno=s_1_8&otracker=search&fm=organic&iid=cc8ac728-88ee-41e5-b462-65b5f1dd3e69.MOBGHWFH4H3MMRAA.SEARCH&ppt=None&ppn=None&ssid=e3lshjj21s0000001702809192362&qH=694e31eb1200eb29'"
      ]
     },
     "execution_count": 66,
     "metadata": {},
     "output_type": "execute_result"
    }
   ],
   "source": [
    "bigbox[3].div.div.div.a[\"href\"]"
   ]
  },
  {
   "cell_type": "code",
   "execution_count": 62,
   "metadata": {},
   "outputs": [],
   "source": [
    "# jaise hme href ke ko pana h ,ar vo avalible h div - div -div -ke andr a tag me"
   ]
  },
  {
   "cell_type": "markdown",
   "metadata": {},
   "source": [
    "![div div div a tag](https://github.com/anu78600/Learning/assets/123054203/c418e905-3e23-4bd7-b2b4-2f642e884165)"
   ]
  },
  {
   "cell_type": "code",
   "execution_count": 68,
   "metadata": {},
   "outputs": [],
   "source": [
    "productlink = \"https://www.flipkart.com\" + bigbox[2].div.div.div.a[\"href\"]"
   ]
  },
  {
   "cell_type": "code",
   "execution_count": 64,
   "metadata": {},
   "outputs": [],
   "source": [
    "# ham required condition ke data url tkk phuch gye h"
   ]
  },
  {
   "cell_type": "markdown",
   "metadata": {},
   "source": [
    "![required data url](https://github.com/anu78600/Learning/assets/123054203/4e214d49-2aec-40b2-a363-31126d5398c5)"
   ]
  },
  {
   "cell_type": "code",
   "execution_count": 70,
   "metadata": {},
   "outputs": [],
   "source": [
    "product_req = requests.get(productlink)"
   ]
  },
  {
   "cell_type": "code",
   "execution_count": 71,
   "metadata": {},
   "outputs": [
    {
     "data": {
      "text/plain": [
       "'https://www.flipkart.com/apple-iphone-14-plus-midnight-128-gb/p/itm4199ea6bcd38b?pid=MOBGHWFH3JX6NWWY&lid=LSTMOBGHWFH3JX6NWWYRH38NG&marketplace=FLIPKART&q=iphone14&store=tyy%2F4io&srno=s_1_7&otracker=search&fm=organic&iid=cc8ac728-88ee-41e5-b462-65b5f1dd3e69.MOBGHWFH3JX6NWWY.SEARCH&ppt=None&ppn=None&ssid=e3lshjj21s0000001702809192362&qH=694e31eb1200eb29'"
      ]
     },
     "execution_count": 71,
     "metadata": {},
     "output_type": "execute_result"
    }
   ],
   "source": [
    "productlink"
   ]
  },
  {
   "cell_type": "code",
   "execution_count": 72,
   "metadata": {},
   "outputs": [],
   "source": [
    "# ab ye jo product link mila h iske review section me ja kar ham review ko nikalenge"
   ]
  },
  {
   "cell_type": "markdown",
   "metadata": {},
   "source": [
    "![product review](https://github.com/anu78600/Learning/assets/123054203/520445ba-cf1b-478c-920b-b12ee438bd98)"
   ]
  },
  {
   "cell_type": "code",
   "execution_count": 76,
   "metadata": {},
   "outputs": [],
   "source": [
    "product_html = bs(product_req.text,\"html.parser\")"
   ]
  },
  {
   "cell_type": "code",
   "execution_count": 78,
   "metadata": {},
   "outputs": [],
   "source": [
    "comment_box = product_html.find_all(\"div\",{\"class\":\"_16PBlm\"})"
   ]
  },
  {
   "cell_type": "code",
   "execution_count": 79,
   "metadata": {},
   "outputs": [
    {
     "data": {
      "text/plain": [
       "11"
      ]
     },
     "execution_count": 79,
     "metadata": {},
     "output_type": "execute_result"
    }
   ],
   "source": [
    "len(comment_box)"
   ]
  },
  {
   "cell_type": "code",
   "execution_count": 84,
   "metadata": {},
   "outputs": [
    {
     "data": {
      "text/plain": [
       "'Priteshkumar Rana'"
      ]
     },
     "execution_count": 84,
     "metadata": {},
     "output_type": "execute_result"
    }
   ],
   "source": [
    "comment_box[0].div.div.find_all('p',{\"class\":\"_2sc7ZR _2V5EHH\"})[0].text"
   ]
  },
  {
   "cell_type": "code",
   "execution_count": 85,
   "metadata": {},
   "outputs": [
    {
     "name": "stdout",
     "output_type": "stream",
     "text": [
      "Priteshkumar Rana\n",
      "Faiz Khan\n",
      "Selim Choudhury\n",
      "Jatin Marwal\n",
      "Nagorao Ghagare Male\n",
      "Anil Kumar Bore Gowda\n",
      "Aniket Ashtekar\n",
      "SATYADEVA SAHU\n",
      "subham kumar Kachhap \n",
      "TAPAL SADDAM\n"
     ]
    },
    {
     "ename": "AttributeError",
     "evalue": "'NoneType' object has no attribute 'div'",
     "output_type": "error",
     "traceback": [
      "\u001b[1;31m---------------------------------------------------------------------------\u001b[0m",
      "\u001b[1;31mAttributeError\u001b[0m                            Traceback (most recent call last)",
      "Cell \u001b[1;32mIn[85], line 2\u001b[0m\n\u001b[0;32m      1\u001b[0m \u001b[38;5;28;01mfor\u001b[39;00m i \u001b[38;5;129;01min\u001b[39;00m comment_box:\n\u001b[1;32m----> 2\u001b[0m     \u001b[38;5;28mprint\u001b[39m(\u001b[43mi\u001b[49m\u001b[38;5;241;43m.\u001b[39;49m\u001b[43mdiv\u001b[49m\u001b[38;5;241;43m.\u001b[39;49m\u001b[43mdiv\u001b[49m\u001b[38;5;241m.\u001b[39mfind_all(\u001b[38;5;124m'\u001b[39m\u001b[38;5;124mp\u001b[39m\u001b[38;5;124m'\u001b[39m,{\u001b[38;5;124m\"\u001b[39m\u001b[38;5;124mclass\u001b[39m\u001b[38;5;124m\"\u001b[39m:\u001b[38;5;124m\"\u001b[39m\u001b[38;5;124m_2sc7ZR _2V5EHH\u001b[39m\u001b[38;5;124m\"\u001b[39m})[\u001b[38;5;241m0\u001b[39m]\u001b[38;5;241m.\u001b[39mtext)\n",
      "\u001b[1;31mAttributeError\u001b[0m: 'NoneType' object has no attribute 'div'"
     ]
    }
   ],
   "source": [
    "for i in comment_box:\n",
    "    print(i.div.div.find_all('p',{\"class\":\"_2sc7ZR _2V5EHH\"})[0].text)"
   ]
  },
  {
   "cell_type": "code",
   "execution_count": 89,
   "metadata": {},
   "outputs": [
    {
     "data": {
      "text/plain": [
       "'5'"
      ]
     },
     "execution_count": 89,
     "metadata": {},
     "output_type": "execute_result"
    }
   ],
   "source": [
    "comment_box[0].div.div.div.div.text"
   ]
  },
  {
   "cell_type": "code",
   "execution_count": 90,
   "metadata": {},
   "outputs": [
    {
     "name": "stdout",
     "output_type": "stream",
     "text": [
      "5\n",
      "5\n",
      "5\n",
      "4\n",
      "5\n",
      "5\n",
      "5\n",
      "5\n",
      "5\n",
      "5\n"
     ]
    },
    {
     "ename": "AttributeError",
     "evalue": "'NoneType' object has no attribute 'div'",
     "output_type": "error",
     "traceback": [
      "\u001b[1;31m---------------------------------------------------------------------------\u001b[0m",
      "\u001b[1;31mAttributeError\u001b[0m                            Traceback (most recent call last)",
      "Cell \u001b[1;32mIn[90], line 2\u001b[0m\n\u001b[0;32m      1\u001b[0m \u001b[38;5;28;01mfor\u001b[39;00m i \u001b[38;5;129;01min\u001b[39;00m comment_box:\n\u001b[1;32m----> 2\u001b[0m     \u001b[38;5;28mprint\u001b[39m(\u001b[43mi\u001b[49m\u001b[38;5;241;43m.\u001b[39;49m\u001b[43mdiv\u001b[49m\u001b[38;5;241;43m.\u001b[39;49m\u001b[43mdiv\u001b[49m\u001b[38;5;241m.\u001b[39mdiv\u001b[38;5;241m.\u001b[39mdiv\u001b[38;5;241m.\u001b[39mtext)\n",
      "\u001b[1;31mAttributeError\u001b[0m: 'NoneType' object has no attribute 'div'"
     ]
    }
   ],
   "source": [
    "for i in comment_box:\n",
    "    print(i.div.div.div.div.text)"
   ]
  },
  {
   "cell_type": "code",
   "execution_count": 98,
   "metadata": {},
   "outputs": [
    {
     "data": {
      "text/plain": [
       "'Nice phone with great camera. My 1st iPhone and I m loving itREAD MORE'"
      ]
     },
     "execution_count": 98,
     "metadata": {},
     "output_type": "execute_result"
    }
   ],
   "source": [
    "comment_box[0].div.div.find_all(\"div\",{\"class\":\"row\"})[1].text"
   ]
  },
  {
   "cell_type": "code",
   "execution_count": 99,
   "metadata": {},
   "outputs": [
    {
     "name": "stdout",
     "output_type": "stream",
     "text": [
      "Nice phone with great camera. My 1st iPhone and I m loving itREAD MORE\n",
      "Its good phone, value for the money.READ MORE\n",
      "I love the pictures and the night mode was awesome.... Mind-blowing product..READ MORE\n",
      "Awesome camera qualityREAD MORE\n",
      "SUPERBGo for it guys without hesitation, great in hand feel ,, superb camera , awesome battery backup , Starlight Colour looks premium, 6.7 inch crisp display, Camera 5/5 performance 5/5 Very happy to have apple 14 plus,Thanks flipcart for genuine product delivered on timeREAD MORE\n",
      "Camera is really good and battery performance also too good. Now apple has inbuilt photo edit options which is really nice to make your photos much better one.READ MORE\n",
      "I think the iPhone 14 Plus is the king of Battery Life.  iPhone 14 Plus Camera is also very good. All rounder iPhone in every department..READ MORE\n",
      "Great PerformanceCamera better than iPhone 13Battery backup also goodIphone 14 plus is just awesome.READ MORE\n",
      "Just wow I cannot express my feelings ❤️😍READ MORE\n",
      "Super phone . camera is super😍READ MORE\n"
     ]
    },
    {
     "ename": "AttributeError",
     "evalue": "'NoneType' object has no attribute 'div'",
     "output_type": "error",
     "traceback": [
      "\u001b[1;31m---------------------------------------------------------------------------\u001b[0m",
      "\u001b[1;31mAttributeError\u001b[0m                            Traceback (most recent call last)",
      "Cell \u001b[1;32mIn[99], line 2\u001b[0m\n\u001b[0;32m      1\u001b[0m \u001b[38;5;28;01mfor\u001b[39;00m i \u001b[38;5;129;01min\u001b[39;00m comment_box:\n\u001b[1;32m----> 2\u001b[0m     \u001b[38;5;28mprint\u001b[39m(\u001b[43mi\u001b[49m\u001b[38;5;241;43m.\u001b[39;49m\u001b[43mdiv\u001b[49m\u001b[38;5;241;43m.\u001b[39;49m\u001b[43mdiv\u001b[49m\u001b[38;5;241m.\u001b[39mfind_all(\u001b[38;5;124m\"\u001b[39m\u001b[38;5;124mdiv\u001b[39m\u001b[38;5;124m\"\u001b[39m,{\u001b[38;5;124m\"\u001b[39m\u001b[38;5;124mclass\u001b[39m\u001b[38;5;124m\"\u001b[39m:\u001b[38;5;124m\"\u001b[39m\u001b[38;5;124mrow\u001b[39m\u001b[38;5;124m\"\u001b[39m})[\u001b[38;5;241m1\u001b[39m]\u001b[38;5;241m.\u001b[39mtext)\n",
      "\u001b[1;31mAttributeError\u001b[0m: 'NoneType' object has no attribute 'div'"
     ]
    }
   ],
   "source": [
    "for i in comment_box:\n",
    "    print(i.div.div.find_all(\"div\",{\"class\":\"row\"})[1].text)"
   ]
  },
  {
   "cell_type": "code",
   "execution_count": 100,
   "metadata": {},
   "outputs": [],
   "source": [
    "# lastly ham apne result ko pa liye ,review nikalne ka"
   ]
  },
  {
   "cell_type": "code",
   "execution_count": 67,
   "metadata": {},
   "outputs": [
    {
     "name": "stdout",
     "output_type": "stream",
     "text": [
      "https://www.flipkart.com/apple-iphone-14-plus-starlight-128-gb/p/itmc922ddc8af349?pid=MOBGHWFHVCB2YZYR&lid=LSTMOBGHWFHVCB2YZYREG7ZLM&marketplace=FLIPKART&q=iphone14&store=tyy%2F4io&srno=s_1_5&otracker=search&fm=organic&iid=cc8ac728-88ee-41e5-b462-65b5f1dd3e69.MOBGHWFHVCB2YZYR.SEARCH&ppt=None&ppn=None&ssid=e3lshjj21s0000001702809192362&qH=694e31eb1200eb29\n",
      "https://www.flipkart.com/apple-iphone-14-plus-purple-128-gb/p/itm7a759a472d863?pid=MOBGHWFHYFJWRHAG&lid=LSTMOBGHWFHYFJWRHAGIWEYST&marketplace=FLIPKART&q=iphone14&store=tyy%2F4io&srno=s_1_6&otracker=search&fm=organic&iid=cc8ac728-88ee-41e5-b462-65b5f1dd3e69.MOBGHWFHYFJWRHAG.SEARCH&ppt=None&ppn=None&ssid=e3lshjj21s0000001702809192362&qH=694e31eb1200eb29\n",
      "https://www.flipkart.com/apple-iphone-14-plus-midnight-128-gb/p/itm4199ea6bcd38b?pid=MOBGHWFH3JX6NWWY&lid=LSTMOBGHWFH3JX6NWWYRH38NG&marketplace=FLIPKART&q=iphone14&store=tyy%2F4io&srno=s_1_7&otracker=search&fm=organic&iid=cc8ac728-88ee-41e5-b462-65b5f1dd3e69.MOBGHWFH3JX6NWWY.SEARCH&ppt=None&ppn=None&ssid=e3lshjj21s0000001702809192362&qH=694e31eb1200eb29\n",
      "https://www.flipkart.com/apple-iphone-14-midnight-256-gb/p/itmdb32e3c997112?pid=MOBGHWFH4H3MMRAA&lid=LSTMOBGHWFH4H3MMRAALZC9PE&marketplace=FLIPKART&q=iphone14&store=tyy%2F4io&srno=s_1_8&otracker=search&fm=organic&iid=cc8ac728-88ee-41e5-b462-65b5f1dd3e69.MOBGHWFH4H3MMRAA.SEARCH&ppt=None&ppn=None&ssid=e3lshjj21s0000001702809192362&qH=694e31eb1200eb29\n",
      "https://www.flipkart.com/apple-iphone-14-starlight-256-gb/p/itmaeda15697bb79?pid=MOBGHWFHBJGZYRZC&lid=LSTMOBGHWFHBJGZYRZCIB3UJL&marketplace=FLIPKART&q=iphone14&store=tyy%2F4io&srno=s_1_9&otracker=search&fm=organic&iid=cc8ac728-88ee-41e5-b462-65b5f1dd3e69.MOBGHWFHBJGZYRZC.SEARCH&ppt=None&ppn=None&ssid=e3lshjj21s0000001702809192362&qH=694e31eb1200eb29\n",
      "https://www.flipkart.com/apple-iphone-14-plus-blue-128-gb/p/itmac8385391b02b?pid=MOBGHWFHUYWGB5F2&lid=LSTMOBGHWFHUYWGB5F2XIJVA7&marketplace=FLIPKART&q=iphone14&store=tyy%2F4io&srno=s_1_10&otracker=search&fm=organic&iid=cc8ac728-88ee-41e5-b462-65b5f1dd3e69.MOBGHWFHUYWGB5F2.SEARCH&ppt=None&ppn=None&ssid=e3lshjj21s0000001702809192362&qH=694e31eb1200eb29\n",
      "https://www.flipkart.com/apple-iphone-14-blue-256-gb/p/itm04dba659735c7?pid=MOBGHWFHD3XPKDPN&lid=LSTMOBGHWFHD3XPKDPNUH3TWL&marketplace=FLIPKART&q=iphone14&store=tyy%2F4io&srno=s_1_11&otracker=search&fm=organic&iid=cc8ac728-88ee-41e5-b462-65b5f1dd3e69.MOBGHWFHD3XPKDPN.SEARCH&ppt=None&ppn=None&ssid=e3lshjj21s0000001702809192362&qH=694e31eb1200eb29\n",
      "https://www.flipkart.com/apple-iphone-14-purple-256-gb/p/itmb2bf402090fae?pid=MOBGHWFHQHE7ZPSB&lid=LSTMOBGHWFHQHE7ZPSBPN0RGP&marketplace=FLIPKART&q=iphone14&store=tyy%2F4io&srno=s_1_12&otracker=search&fm=organic&iid=cc8ac728-88ee-41e5-b462-65b5f1dd3e69.MOBGHWFHQHE7ZPSB.SEARCH&ppt=None&ppn=None&ssid=e3lshjj21s0000001702809192362&qH=694e31eb1200eb29\n",
      "https://www.flipkart.com/apple-iphone-14-product-red-512-gb/p/itm9b970895ea4d5?pid=MOBGHWFHS87QNJ32&lid=LSTMOBGHWFHS87QNJ32W9IACJ&marketplace=FLIPKART&q=iphone14&store=tyy%2F4io&srno=s_1_13&otracker=search&fm=organic&iid=cc8ac728-88ee-41e5-b462-65b5f1dd3e69.MOBGHWFHS87QNJ32.SEARCH&ppt=None&ppn=None&ssid=e3lshjj21s0000001702809192362&qH=694e31eb1200eb29\n",
      "https://www.flipkart.com/apple-iphone-14-blue-512-gb/p/itm6f59f7f999d00?pid=MOBGHWFHYRWUSHCF&lid=LSTMOBGHWFHYRWUSHCFLNXSYO&marketplace=FLIPKART&q=iphone14&store=tyy%2F4io&srno=s_1_14&otracker=search&fm=organic&iid=cc8ac728-88ee-41e5-b462-65b5f1dd3e69.MOBGHWFHYRWUSHCF.SEARCH&ppt=None&ppn=None&ssid=e3lshjj21s0000001702809192362&qH=694e31eb1200eb29\n",
      "https://www.flipkart.com/apple-iphone-14-starlight-512-gb/p/itm84f832806211e?pid=MOBGHWFHPUUFJJCA&lid=LSTMOBGHWFHPUUFJJCAA44ALJ&marketplace=FLIPKART&q=iphone14&store=tyy%2F4io&srno=s_1_15&otracker=search&fm=organic&iid=cc8ac728-88ee-41e5-b462-65b5f1dd3e69.MOBGHWFHPUUFJJCA.SEARCH&ppt=None&ppn=None&ssid=e3lshjj21s0000001702809192362&qH=694e31eb1200eb29\n",
      "https://www.flipkart.com/apple-iphone-14-purple-512-gb/p/itm97a1b385891d0?pid=MOBGHWFHG9HQHTU7&lid=LSTMOBGHWFHG9HQHTU7FAJZFG&marketplace=FLIPKART&q=iphone14&store=tyy%2F4io&srno=s_1_16&otracker=search&fm=organic&iid=cc8ac728-88ee-41e5-b462-65b5f1dd3e69.MOBGHWFHG9HQHTU7.SEARCH&ppt=None&ppn=None&ssid=e3lshjj21s0000001702809192362&qH=694e31eb1200eb29\n",
      "https://www.flipkart.com/apple-iphone-14-product-red-128-gb/p/itm1f78a4e1a1d76?pid=MOBGHWFHFBJVSW22&lid=LSTMOBGHWFHFBJVSW22RJNZPB&marketplace=FLIPKART&q=iphone14&store=tyy%2F4io&srno=s_1_17&otracker=search&fm=organic&iid=cc8ac728-88ee-41e5-b462-65b5f1dd3e69.MOBGHWFHFBJVSW22.SEARCH&ppt=None&ppn=None&ssid=e3lshjj21s0000001702809192362&qH=694e31eb1200eb29\n",
      "https://www.flipkart.com/apple-iphone-14-midnight-512-gb/p/itm01540a8ff03de?pid=MOBGHWFHBEMUZSBY&lid=LSTMOBGHWFHBEMUZSBY9NZAVD&marketplace=FLIPKART&q=iphone14&store=tyy%2F4io&srno=s_1_18&otracker=search&fm=organic&iid=cc8ac728-88ee-41e5-b462-65b5f1dd3e69.MOBGHWFHBEMUZSBY.SEARCH&ppt=None&ppn=None&ssid=e3lshjj21s0000001702809192362&qH=694e31eb1200eb29\n",
      "https://www.flipkart.com/apple-iphone-14-plus-yellow-256-gb/p/itma3eca99a370df?pid=MOBGNHT7DMZ3DZPJ&lid=LSTMOBGNHT7DMZ3DZPJT7XGHX&marketplace=FLIPKART&q=iphone14&store=tyy%2F4io&srno=s_1_19&otracker=search&fm=organic&iid=cc8ac728-88ee-41e5-b462-65b5f1dd3e69.MOBGNHT7DMZ3DZPJ.SEARCH&ppt=None&ppn=None&ssid=e3lshjj21s0000001702809192362&qH=694e31eb1200eb29\n",
      "https://www.flipkart.com/apple-iphone-14-pro-gold-256-gb/p/itm9b3566b996597?pid=MOBGHWFHGGXGCRRP&lid=LSTMOBGHWFHGGXGCRRPYZW3DP&marketplace=FLIPKART&q=iphone14&store=tyy%2F4io&srno=s_1_20&otracker=search&fm=organic&iid=cc8ac728-88ee-41e5-b462-65b5f1dd3e69.MOBGHWFHGGXGCRRP.SEARCH&ppt=None&ppn=None&ssid=e3lshjj21s0000001702809192362&qH=694e31eb1200eb29\n",
      "https://www.flipkart.com/apple-iphone-14-yellow-512-gb/p/itm228ad5fd691bd?pid=MOBGNHT7UDGMMMBD&lid=LSTMOBGNHT7UDGMMMBDJ8FAZ9&marketplace=FLIPKART&q=iphone14&store=tyy%2F4io&srno=s_1_21&otracker=search&fm=organic&iid=cc8ac728-88ee-41e5-b462-65b5f1dd3e69.MOBGNHT7UDGMMMBD.SEARCH&ppt=None&ppn=None&ssid=e3lshjj21s0000001702809192362&qH=694e31eb1200eb29\n",
      "https://www.flipkart.com/apple-iphone-14-pro-max-deep-purple-128-gb/p/itm5256789ae40c7?pid=MOBGHWFHCWHXRZZJ&lid=LSTMOBGHWFHCWHXRZZJQWSX4D&marketplace=FLIPKART&q=iphone14&store=tyy%2F4io&srno=s_1_22&otracker=search&fm=organic&iid=cc8ac728-88ee-41e5-b462-65b5f1dd3e69.MOBGHWFHCWHXRZZJ.SEARCH&ppt=None&ppn=None&ssid=e3lshjj21s0000001702809192362&qH=694e31eb1200eb29\n",
      "https://www.flipkart.com/apple-iphone-14-pro-space-black-128-gb/p/itm6e6711f2982c8?pid=MOBGHWFHZBHSYBBW&lid=LSTMOBGHWFHZBHSYBBWZRMCHS&marketplace=FLIPKART&q=iphone14&store=tyy%2F4io&srno=s_1_23&otracker=search&fm=organic&iid=cc8ac728-88ee-41e5-b462-65b5f1dd3e69.MOBGHWFHZBHSYBBW.SEARCH&ppt=None&ppn=None&ssid=e3lshjj21s0000001702809192362&qH=694e31eb1200eb29\n",
      "https://www.flipkart.com/apple-iphone-14-plus-blue-512-gb/p/itm9b829cc08a732?pid=MOBGHWFHKHPYMQX8&lid=LSTMOBGHWFHKHPYMQX8K7QHSJ&marketplace=FLIPKART&q=iphone14&store=tyy%2F4io&srno=s_1_24&otracker=search&fm=organic&iid=cc8ac728-88ee-41e5-b462-65b5f1dd3e69.MOBGHWFHKHPYMQX8.SEARCH&ppt=None&ppn=None&ssid=e3lshjj21s0000001702809192362&qH=694e31eb1200eb29\n"
     ]
    },
    {
     "ename": "AttributeError",
     "evalue": "'NoneType' object has no attribute 'a'",
     "output_type": "error",
     "traceback": [
      "\u001b[1;31m---------------------------------------------------------------------------\u001b[0m",
      "\u001b[1;31mAttributeError\u001b[0m                            Traceback (most recent call last)",
      "Cell \u001b[1;32mIn[67], line 4\u001b[0m\n\u001b[0;32m      1\u001b[0m \u001b[38;5;66;03m# jitne b product available h , ham sbhi ke url nikalenge\u001b[39;00m\n\u001b[0;32m      3\u001b[0m \u001b[38;5;28;01mfor\u001b[39;00m i \u001b[38;5;129;01min\u001b[39;00m bigbox:\n\u001b[1;32m----> 4\u001b[0m     \u001b[38;5;28mprint\u001b[39m(\u001b[38;5;124m\"\u001b[39m\u001b[38;5;124mhttps://www.flipkart.com\u001b[39m\u001b[38;5;124m\"\u001b[39m\u001b[38;5;241m+\u001b[39m \u001b[43mi\u001b[49m\u001b[38;5;241;43m.\u001b[39;49m\u001b[43mdiv\u001b[49m\u001b[38;5;241;43m.\u001b[39;49m\u001b[43mdiv\u001b[49m\u001b[38;5;241;43m.\u001b[39;49m\u001b[43mdiv\u001b[49m\u001b[38;5;241;43m.\u001b[39;49m\u001b[43ma\u001b[49m[\u001b[38;5;124m\"\u001b[39m\u001b[38;5;124mhref\u001b[39m\u001b[38;5;124m\"\u001b[39m])\n",
      "\u001b[1;31mAttributeError\u001b[0m: 'NoneType' object has no attribute 'a'"
     ]
    }
   ],
   "source": [
    "# jitne b product available h , ham sbhi ke url nikalenge\n",
    "\n",
    "for i in bigbox:\n",
    "    print(\"https://www.flipkart.com\"+ i.div.div.div.a[\"href\"])"
   ]
  },
  {
   "cell_type": "code",
   "execution_count": null,
   "metadata": {},
   "outputs": [],
   "source": []
  }
 ],
 "metadata": {
  "kernelspec": {
   "display_name": "Python 3",
   "language": "python",
   "name": "python3"
  },
  "language_info": {
   "codemirror_mode": {
    "name": "ipython",
    "version": 3
   },
   "file_extension": ".py",
   "mimetype": "text/x-python",
   "name": "python",
   "nbconvert_exporter": "python",
   "pygments_lexer": "ipython3",
   "version": "3.12.0"
  }
 },
 "nbformat": 4,
 "nbformat_minor": 2
}
