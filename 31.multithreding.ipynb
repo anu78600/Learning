{
 "cells": [
  {
   "cell_type": "code",
   "execution_count": 2,
   "metadata": {},
   "outputs": [],
   "source": [
    "import threading\n"
   ]
  },
  {
   "cell_type": "code",
   "execution_count": 3,
   "metadata": {},
   "outputs": [],
   "source": [
    "def test(id):\n",
    "    print('prog start %d'% id)"
   ]
  },
  {
   "cell_type": "code",
   "execution_count": 4,
   "metadata": {},
   "outputs": [
    {
     "name": "stdout",
     "output_type": "stream",
     "text": [
      "prog start 45\n"
     ]
    }
   ],
   "source": [
    "test(45)"
   ]
  },
  {
   "cell_type": "code",
   "execution_count": 5,
   "metadata": {},
   "outputs": [],
   "source": [
    "# multiple program bnaye , ar unhe run karaye"
   ]
  },
  {
   "cell_type": "code",
   "execution_count": 6,
   "metadata": {},
   "outputs": [],
   "source": [
    "thread  =  [threading.Thread(target=test,args=(i,))for i in range(10)]             # core ke andr multiple program bna rhe h"
   ]
  },
  {
   "cell_type": "code",
   "execution_count": 7,
   "metadata": {},
   "outputs": [],
   "source": [
    "# single core ke andr hme 10 baar thread (multiple program) run karvane h"
   ]
  },
  {
   "cell_type": "code",
   "execution_count": 8,
   "metadata": {},
   "outputs": [
    {
     "name": "stdout",
     "output_type": "stream",
     "text": [
      "prog start 0\n",
      "prog start 1\n",
      "prog start 2\n",
      "prog start 3\n",
      "prog start 4\n",
      "prog start 5\n",
      "prog start 6\n",
      "prog start 7\n",
      "prog start 8\n",
      "prog start 9\n"
     ]
    }
   ],
   "source": [
    "for t in thread:\n",
    "    t.start()"
   ]
  },
  {
   "cell_type": "code",
   "execution_count": 9,
   "metadata": {},
   "outputs": [
    {
     "data": {
      "text/plain": [
       "[<Thread(Thread-5 (test), stopped 3984)>,\n",
       " <Thread(Thread-6 (test), stopped 11136)>,\n",
       " <Thread(Thread-7 (test), stopped 12444)>,\n",
       " <Thread(Thread-8 (test), stopped 5848)>,\n",
       " <Thread(Thread-9 (test), stopped 11764)>,\n",
       " <Thread(Thread-10 (test), stopped 6508)>,\n",
       " <Thread(Thread-11 (test), stopped 12180)>,\n",
       " <Thread(Thread-12 (test), stopped 1672)>,\n",
       " <Thread(Thread-13 (test), stopped 9884)>,\n",
       " <Thread(Thread-14 (test), stopped 6980)>]"
      ]
     },
     "execution_count": 9,
     "metadata": {},
     "output_type": "execute_result"
    }
   ],
   "source": [
    "thread"
   ]
  },
  {
   "cell_type": "code",
   "execution_count": 10,
   "metadata": {},
   "outputs": [
    {
     "data": {
      "text/plain": [
       "2522540848896"
      ]
     },
     "execution_count": 10,
     "metadata": {},
     "output_type": "execute_result"
    }
   ],
   "source": [
    "id(thread)"
   ]
  },
  {
   "cell_type": "code",
   "execution_count": 11,
   "metadata": {},
   "outputs": [],
   "source": [
    "# ye single process ke andr hi run kar rha h, ise 10 thread bna kar de diya h"
   ]
  },
  {
   "cell_type": "code",
   "execution_count": null,
   "metadata": {},
   "outputs": [],
   "source": []
  },
  {
   "cell_type": "code",
   "execution_count": 12,
   "metadata": {},
   "outputs": [],
   "source": [
    "import threading\n",
    "import urllib.request\n",
    "\n",
    "def file_download(url,filename):\n",
    "    urllib.request.urlretrieve(url,filename)"
   ]
  },
  {
   "cell_type": "code",
   "execution_count": 13,
   "metadata": {},
   "outputs": [],
   "source": [
    "file_download(\"https://github.com/anu78600/Practise/blob/main/9about.html\",\"test1.txt\")"
   ]
  },
  {
   "cell_type": "code",
   "execution_count": 14,
   "metadata": {},
   "outputs": [],
   "source": [
    "url_list = ['https://github.com/anu78600/Practise/blob/main/9about.html',\"https://en.wikipedia.org/wiki/Wikipedia:About\",\"https://pwskills.com/\"]"
   ]
  },
  {
   "cell_type": "code",
   "execution_count": 15,
   "metadata": {},
   "outputs": [
    {
     "data": {
      "text/plain": [
       "['https://github.com/anu78600/Practise/blob/main/9about.html',\n",
       " 'https://en.wikipedia.org/wiki/Wikipedia:About',\n",
       " 'https://pwskills.com/']"
      ]
     },
     "execution_count": 15,
     "metadata": {},
     "output_type": "execute_result"
    }
   ],
   "source": [
    "url_list"
   ]
  },
  {
   "cell_type": "code",
   "execution_count": 16,
   "metadata": {},
   "outputs": [],
   "source": [
    "file_name_list = ['data1.txt','data2.txt','data3.txt']"
   ]
  },
  {
   "cell_type": "code",
   "execution_count": 17,
   "metadata": {},
   "outputs": [],
   "source": [
    "ther = [threading.Thread(target=file_download,args=(url_list[i],file_name_list[i]) )for i in range(len(url_list))]"
   ]
  },
  {
   "cell_type": "code",
   "execution_count": 18,
   "metadata": {},
   "outputs": [
    {
     "data": {
      "text/plain": [
       "[<Thread(Thread-15 (file_download), initial)>,\n",
       " <Thread(Thread-16 (file_download), initial)>,\n",
       " <Thread(Thread-17 (file_download), initial)>]"
      ]
     },
     "execution_count": 18,
     "metadata": {},
     "output_type": "execute_result"
    }
   ],
   "source": [
    "ther"
   ]
  },
  {
   "cell_type": "code",
   "execution_count": 19,
   "metadata": {},
   "outputs": [],
   "source": [
    "for t in ther:\n",
    "    t.start()"
   ]
  },
  {
   "cell_type": "code",
   "execution_count": null,
   "metadata": {},
   "outputs": [],
   "source": []
  },
  {
   "cell_type": "code",
   "execution_count": 20,
   "metadata": {},
   "outputs": [],
   "source": [
    "import time"
   ]
  },
  {
   "cell_type": "code",
   "execution_count": 21,
   "metadata": {},
   "outputs": [],
   "source": [
    "def test1(id):\n",
    "    for i in range (10):\n",
    "        print('test1 %d printing %d %s'% (id,i,time.ctime()) )\n",
    "        time.sleep(1)   # sleep ka effect hme thread karte time dikhega niche"
   ]
  },
  {
   "cell_type": "code",
   "execution_count": 22,
   "metadata": {},
   "outputs": [
    {
     "name": "stdout",
     "output_type": "stream",
     "text": [
      "test1 1 printing 0 Wed Nov 15 17:16:17 2023\n",
      "test1 1 printing 1 Wed Nov 15 17:16:18 2023\n",
      "test1 1 printing 2 Wed Nov 15 17:16:19 2023\n",
      "test1 1 printing 3 Wed Nov 15 17:16:20 2023\n",
      "test1 1 printing 4 Wed Nov 15 17:16:21 2023\n",
      "test1 1 printing 5 Wed Nov 15 17:16:22 2023\n",
      "test1 1 printing 6 Wed Nov 15 17:16:23 2023\n",
      "test1 1 printing 7 Wed Nov 15 17:16:24 2023\n",
      "test1 1 printing 8 Wed Nov 15 17:16:25 2023\n",
      "test1 1 printing 9 Wed Nov 15 17:16:26 2023\n"
     ]
    }
   ],
   "source": [
    "test1(1)"
   ]
  },
  {
   "cell_type": "code",
   "execution_count": 23,
   "metadata": {},
   "outputs": [],
   "source": [
    "thread1 = [threading.Thread(target=test1,args=(i,)) for i in range(3)]"
   ]
  },
  {
   "cell_type": "code",
   "execution_count": 24,
   "metadata": {},
   "outputs": [
    {
     "name": "stdout",
     "output_type": "stream",
     "text": [
      "test1 0 printing 0 Wed Nov 15 17:16:27 2023\n",
      "test1 1 printing 0 Wed Nov 15 17:16:27 2023\n",
      "test1 2 printing 0 Wed Nov 15 17:16:27 2023\n"
     ]
    }
   ],
   "source": [
    "for t in thread1:\n",
    "    t.start()  # yek id ke yek process ko complete karke , durse id ke yek process ko complete karke and so on "
   ]
  },
  {
   "cell_type": "code",
   "execution_count": null,
   "metadata": {},
   "outputs": [],
   "source": []
  },
  {
   "cell_type": "code",
   "execution_count": 25,
   "metadata": {},
   "outputs": [],
   "source": [
    "def test1(id):\n",
    "    for i in range (10):\n",
    "        print('test1 %d printing %d'% (id,i) )\n",
    "        #time.sleep(1)           # yha hame sone ka time hi nhi diya system ko"
   ]
  },
  {
   "cell_type": "code",
   "execution_count": 26,
   "metadata": {},
   "outputs": [],
   "source": [
    "thread1 = [threading.Thread(target=test1,args=(i,)) for i in range(3)]"
   ]
  },
  {
   "cell_type": "code",
   "execution_count": 27,
   "metadata": {},
   "outputs": [
    {
     "name": "stdout",
     "output_type": "stream",
     "text": [
      "test1 0 printing 0\n",
      "test1 0 printing 1\n",
      "test1 0 printing 2\n",
      "test1 0 printing 3\n",
      "test1 0 printing 4\n",
      "test1 0 printing 5\n",
      "test1 0 printing 6\n",
      "test1 0 printing 7\n",
      "test1 0 printing 8\n",
      "test1 0 printing 9\n",
      "test1 1 printing 0\n",
      "test1 1 printing 1\n",
      "test1 1 printing 2\n",
      "test1 1 printing 3\n",
      "test1 1 printing 4\n",
      "test1 1 printing 5\n",
      "test1 1 printing 6\n",
      "test1 1 printing 7\n",
      "test1 1 printing 8\n",
      "test1 1 printing 9\n",
      "test1 2 printing 0\n",
      "test1 2 printing 1\n",
      "test1 2 printing 2\n",
      "test1 2 printing 3\n",
      "test1 2 printing 4\n",
      "test1 2 printing 5\n",
      "test1 2 printing 6\n",
      "test1 2 printing 7\n",
      "test1 2 printing 8\n",
      "test1 2 printing 9\n"
     ]
    }
   ],
   "source": [
    "for t in thread1:\n",
    "    t.start()   # yek id ke process ko pura complete karke , next id ke process me jayega"
   ]
  },
  {
   "cell_type": "code",
   "execution_count": 28,
   "metadata": {},
   "outputs": [],
   "source": [
    "# yek hi number ko sabhi program try krenge update karne ka , esa scenario bna rhe h?"
   ]
  },
  {
   "cell_type": "code",
   "execution_count": 38,
   "metadata": {},
   "outputs": [],
   "source": [
    "shared_var = 0\n",
    "lock_var = threading.Lock()"
   ]
  },
  {
   "cell_type": "code",
   "execution_count": 40,
   "metadata": {},
   "outputs": [
    {
     "name": "stdout",
     "output_type": "stream",
     "text": [
      "test2 id is 0 has increased the shared variable by 4\n"
     ]
    },
    {
     "name": "stdout",
     "output_type": "stream",
     "text": [
      "test2 id is 1 has increased the shared variable by 5\n",
      "test2 id is 2 has increased the shared variable by 6\n"
     ]
    }
   ],
   "source": [
    "def test2(id):\n",
    "    global shared_var\n",
    "    with lock_var:\n",
    "        shared_var = shared_var + 1\n",
    "        print('test2 id is %d has increased the shared variable by %d' % (id,shared_var))\n",
    "        time.sleep(1)\n",
    "\n",
    "ther3=[threading.Thread(target=test2,args=(i,)) for i in range(3)]\n",
    "for t in ther3:\n",
    "    t.start()        "
   ]
  },
  {
   "cell_type": "code",
   "execution_count": 35,
   "metadata": {},
   "outputs": [
    {
     "data": {
      "text/plain": [
       "[<Thread(Thread-27 (test2), stopped 12024)>,\n",
       " <Thread(Thread-28 (test2), stopped 6136)>,\n",
       " <Thread(Thread-29 (test2), stopped 10100)>]"
      ]
     },
     "execution_count": 35,
     "metadata": {},
     "output_type": "execute_result"
    }
   ],
   "source": [
    "ther3"
   ]
  },
  {
   "cell_type": "code",
   "execution_count": null,
   "metadata": {},
   "outputs": [],
   "source": []
  }
 ],
 "metadata": {
  "kernelspec": {
   "display_name": "Python 3",
   "language": "python",
   "name": "python3"
  },
  "language_info": {
   "codemirror_mode": {
    "name": "ipython",
    "version": 3
   },
   "file_extension": ".py",
   "mimetype": "text/x-python",
   "name": "python",
   "nbconvert_exporter": "python",
   "pygments_lexer": "ipython3",
   "version": "3.11.5"
  }
 },
 "nbformat": 4,
 "nbformat_minor": 2
}
