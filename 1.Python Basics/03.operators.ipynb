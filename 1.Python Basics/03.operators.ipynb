{
 "cells": [
  {
   "cell_type": "code",
   "execution_count": 1,
   "id": "6d647db5-a88f-4b7c-abf8-6701665b377c",
   "metadata": {},
   "outputs": [],
   "source": [
    "# Arithematic operators\n"
   ]
  },
  {
   "cell_type": "code",
   "execution_count": 2,
   "id": "df476307-25c3-4249-a107-98563a33c3f1",
   "metadata": {},
   "outputs": [
    {
     "data": {
      "text/plain": [
       "3"
      ]
     },
     "execution_count": 2,
     "metadata": {},
     "output_type": "execute_result"
    }
   ],
   "source": [
    "1+2"
   ]
  },
  {
   "cell_type": "code",
   "execution_count": 3,
   "id": "8c6dd3be-1776-44b3-8258-e52254595280",
   "metadata": {},
   "outputs": [
    {
     "data": {
      "text/plain": [
       "-1"
      ]
     },
     "execution_count": 3,
     "metadata": {},
     "output_type": "execute_result"
    }
   ],
   "source": [
    "1-2"
   ]
  },
  {
   "cell_type": "code",
   "execution_count": 4,
   "id": "a366bdd8-b51a-485d-82d6-7da65ea3b78d",
   "metadata": {},
   "outputs": [
    {
     "data": {
      "text/plain": [
       "6"
      ]
     },
     "execution_count": 4,
     "metadata": {},
     "output_type": "execute_result"
    }
   ],
   "source": [
    "2*3"
   ]
  },
  {
   "cell_type": "code",
   "execution_count": 5,
   "id": "40280fbf-55de-42d2-9a19-a3352f3b2fd7",
   "metadata": {},
   "outputs": [
    {
     "data": {
      "text/plain": [
       "0.6666666666666666"
      ]
     },
     "execution_count": 5,
     "metadata": {},
     "output_type": "execute_result"
    }
   ],
   "source": [
    "2/3"
   ]
  },
  {
   "cell_type": "code",
   "execution_count": 6,
   "id": "884e5729-03d7-4e7c-901e-32d3a5e9e768",
   "metadata": {},
   "outputs": [
    {
     "data": {
      "text/plain": [
       "1"
      ]
     },
     "execution_count": 6,
     "metadata": {},
     "output_type": "execute_result"
    }
   ],
   "source": [
    "1%4     #moduls operator , jo bhi remainder aayega use btayega"
   ]
  },
  {
   "cell_type": "code",
   "execution_count": 7,
   "id": "2e257e0d-2321-4d7a-858a-599367fcc5b6",
   "metadata": {},
   "outputs": [
    {
     "data": {
      "text/plain": [
       "0"
      ]
     },
     "execution_count": 7,
     "metadata": {},
     "output_type": "execute_result"
    }
   ],
   "source": [
    "25%5"
   ]
  },
  {
   "cell_type": "code",
   "execution_count": 8,
   "id": "00c5b852-1b29-4a23-a287-cfceea5389e2",
   "metadata": {},
   "outputs": [
    {
     "data": {
      "text/plain": [
       "1"
      ]
     },
     "execution_count": 8,
     "metadata": {},
     "output_type": "execute_result"
    }
   ],
   "source": [
    "5//4        #division floor, Floor division is a division operation that rounds the result down to the nearest whole number or integer,\n",
    "                             #which is less than or equal to the normal division result"
   ]
  },
  {
   "cell_type": "code",
   "execution_count": 9,
   "id": "a70815d3-8725-4f63-8ab2-8f3f6c284d49",
   "metadata": {},
   "outputs": [
    {
     "data": {
      "text/plain": [
       "5"
      ]
     },
     "execution_count": 9,
     "metadata": {},
     "output_type": "execute_result"
    }
   ],
   "source": [
    "25//5"
   ]
  },
  {
   "cell_type": "code",
   "execution_count": 10,
   "id": "6d72f6b6-a839-4af1-bd4b-dba629fda06c",
   "metadata": {},
   "outputs": [
    {
     "data": {
      "text/plain": [
       "8"
      ]
     },
     "execution_count": 10,
     "metadata": {},
     "output_type": "execute_result"
    }
   ],
   "source": [
    "2**3    #power/exponent operator , 2 to the power 3 like this"
   ]
  },
  {
   "cell_type": "code",
   "execution_count": 11,
   "id": "ea163a4a-e934-4fa1-b68f-5ad77680af16",
   "metadata": {},
   "outputs": [
    {
     "data": {
      "text/plain": [
       "81"
      ]
     },
     "execution_count": 11,
     "metadata": {},
     "output_type": "execute_result"
    }
   ],
   "source": [
    "3**4"
   ]
  },
  {
   "cell_type": "code",
   "execution_count": 12,
   "id": "390b4b66-2f14-4b32-9d91-2a6e340eee81",
   "metadata": {},
   "outputs": [],
   "source": [
    "#Comparision operators\n"
   ]
  },
  {
   "cell_type": "code",
   "execution_count": 13,
   "id": "268a67ed-007e-4de0-85a6-6f6fc8146f39",
   "metadata": {},
   "outputs": [
    {
     "data": {
      "text/plain": [
       "False"
      ]
     },
     "execution_count": 13,
     "metadata": {},
     "output_type": "execute_result"
    }
   ],
   "source": [
    "1>2"
   ]
  },
  {
   "cell_type": "code",
   "execution_count": 14,
   "id": "06969e27-8e62-4bf7-ba14-0eef1269e4b7",
   "metadata": {},
   "outputs": [
    {
     "data": {
      "text/plain": [
       "True"
      ]
     },
     "execution_count": 14,
     "metadata": {},
     "output_type": "execute_result"
    }
   ],
   "source": [
    "2>1"
   ]
  },
  {
   "cell_type": "code",
   "execution_count": 15,
   "id": "f83606d8-e645-4bc1-a1c6-b3ad2b88a250",
   "metadata": {},
   "outputs": [
    {
     "data": {
      "text/plain": [
       "True"
      ]
     },
     "execution_count": 15,
     "metadata": {},
     "output_type": "execute_result"
    }
   ],
   "source": [
    "1<2"
   ]
  },
  {
   "cell_type": "code",
   "execution_count": 17,
   "id": "527a9525-0f8a-40c8-94c0-262c2c646083",
   "metadata": {},
   "outputs": [
    {
     "data": {
      "text/plain": [
       "False"
      ]
     },
     "execution_count": 17,
     "metadata": {},
     "output_type": "execute_result"
    }
   ],
   "source": [
    "1==2   # single = means ki ham value ko assign kr rhe h\n",
    "       # Double == means ki ham value ko compare kr rhe h"
   ]
  },
  {
   "cell_type": "code",
   "execution_count": 18,
   "id": "d974ab22-2758-476a-8f78-57a91e2e6009",
   "metadata": {},
   "outputs": [
    {
     "data": {
      "text/plain": [
       "True"
      ]
     },
     "execution_count": 18,
     "metadata": {},
     "output_type": "execute_result"
    }
   ],
   "source": [
    "2==2"
   ]
  },
  {
   "cell_type": "code",
   "execution_count": 19,
   "id": "08970851-f705-426f-ada3-235ae6f0bed3",
   "metadata": {},
   "outputs": [
    {
     "data": {
      "text/plain": [
       "True"
      ]
     },
     "execution_count": 19,
     "metadata": {},
     "output_type": "execute_result"
    }
   ],
   "source": [
    "1!=2     #symbole of not (!)"
   ]
  },
  {
   "cell_type": "code",
   "execution_count": 20,
   "id": "8a2c5702-fae9-45eb-8d73-54d92cfbafea",
   "metadata": {},
   "outputs": [
    {
     "data": {
      "text/plain": [
       "False"
      ]
     },
     "execution_count": 20,
     "metadata": {},
     "output_type": "execute_result"
    }
   ],
   "source": [
    "1!=1"
   ]
  },
  {
   "cell_type": "code",
   "execution_count": 21,
   "id": "715be6e5-8a9e-4c04-87c0-10fe93b07c99",
   "metadata": {},
   "outputs": [
    {
     "data": {
      "text/plain": [
       "True"
      ]
     },
     "execution_count": 21,
     "metadata": {},
     "output_type": "execute_result"
    }
   ],
   "source": [
    "2>=1    #greater than equal to , dono me se yek shi hona chahiye"
   ]
  },
  {
   "cell_type": "code",
   "execution_count": 22,
   "id": "42ca4434-4d5e-4c74-88ae-0ab76c064e04",
   "metadata": {},
   "outputs": [
    {
     "data": {
      "text/plain": [
       "False"
      ]
     },
     "execution_count": 22,
     "metadata": {},
     "output_type": "execute_result"
    }
   ],
   "source": [
    "2<=1"
   ]
  },
  {
   "cell_type": "code",
   "execution_count": 23,
   "id": "ff09b74f-881e-495c-b456-752406eb9b24",
   "metadata": {},
   "outputs": [
    {
     "data": {
      "text/plain": [
       "True"
      ]
     },
     "execution_count": 23,
     "metadata": {},
     "output_type": "execute_result"
    }
   ],
   "source": [
    "2<=2"
   ]
  },
  {
   "cell_type": "code",
   "execution_count": null,
   "id": "e336531d-468b-48a4-ad03-acf6ca1f38df",
   "metadata": {},
   "outputs": [],
   "source": []
  },
  {
   "cell_type": "code",
   "execution_count": 24,
   "id": "71ea2683-bcc0-4273-9327-58cd52ee7113",
   "metadata": {},
   "outputs": [],
   "source": [
    "#logical operator\n"
   ]
  },
  {
   "cell_type": "code",
   "execution_count": 25,
   "id": "efbf8073-d518-44cb-a53b-faba4c1868aa",
   "metadata": {},
   "outputs": [
    {
     "data": {
      "text/plain": [
       "True"
      ]
     },
     "execution_count": 25,
     "metadata": {},
     "output_type": "execute_result"
    }
   ],
   "source": [
    "True and True"
   ]
  },
  {
   "cell_type": "code",
   "execution_count": 26,
   "id": "7782d87e-1233-49af-9c91-046e003ee7b7",
   "metadata": {},
   "outputs": [
    {
     "data": {
      "text/plain": [
       "False"
      ]
     },
     "execution_count": 26,
     "metadata": {},
     "output_type": "execute_result"
    }
   ],
   "source": [
    "True and False"
   ]
  },
  {
   "cell_type": "code",
   "execution_count": 27,
   "id": "1ae14673-33bb-43d3-a52f-0b1cd122887a",
   "metadata": {},
   "outputs": [
    {
     "data": {
      "text/plain": [
       "0"
      ]
     },
     "execution_count": 27,
     "metadata": {},
     "output_type": "execute_result"
    }
   ],
   "source": [
    "1 and 0"
   ]
  },
  {
   "cell_type": "code",
   "execution_count": 28,
   "id": "b278d399-0d3c-4a54-83bc-33b23afb67a8",
   "metadata": {},
   "outputs": [
    {
     "data": {
      "text/plain": [
       "1"
      ]
     },
     "execution_count": 28,
     "metadata": {},
     "output_type": "execute_result"
    }
   ],
   "source": [
    "1and 1"
   ]
  },
  {
   "cell_type": "code",
   "execution_count": 29,
   "id": "7ddaefbd-dda1-46bb-a740-3601740174a0",
   "metadata": {},
   "outputs": [
    {
     "data": {
      "text/plain": [
       "True"
      ]
     },
     "execution_count": 29,
     "metadata": {},
     "output_type": "execute_result"
    }
   ],
   "source": [
    "True or False "
   ]
  },
  {
   "cell_type": "code",
   "execution_count": 30,
   "id": "ccbdc784-52ac-4639-b49e-953d191242d2",
   "metadata": {},
   "outputs": [
    {
     "data": {
      "text/plain": [
       "True"
      ]
     },
     "execution_count": 30,
     "metadata": {},
     "output_type": "execute_result"
    }
   ],
   "source": [
    "True or True"
   ]
  },
  {
   "cell_type": "code",
   "execution_count": 31,
   "id": "7d19a483-a4a3-44d4-96a3-270a407ea358",
   "metadata": {},
   "outputs": [
    {
     "data": {
      "text/plain": [
       "False"
      ]
     },
     "execution_count": 31,
     "metadata": {},
     "output_type": "execute_result"
    }
   ],
   "source": [
    "False or False"
   ]
  },
  {
   "cell_type": "code",
   "execution_count": 32,
   "id": "eb8385b0-d288-4681-ab12-82c01a0ecfb1",
   "metadata": {},
   "outputs": [
    {
     "data": {
      "text/plain": [
       "1"
      ]
     },
     "execution_count": 32,
     "metadata": {},
     "output_type": "execute_result"
    }
   ],
   "source": [
    "1 or 0"
   ]
  },
  {
   "cell_type": "code",
   "execution_count": 33,
   "id": "77c512b3-739e-4cf7-bd6a-2284b20170d1",
   "metadata": {},
   "outputs": [
    {
     "data": {
      "text/plain": [
       "0"
      ]
     },
     "execution_count": 33,
     "metadata": {},
     "output_type": "execute_result"
    }
   ],
   "source": [
    "0 or 0"
   ]
  },
  {
   "cell_type": "code",
   "execution_count": 34,
   "id": "0e6e261d-d7e7-4869-92a4-37def93fa26c",
   "metadata": {},
   "outputs": [
    {
     "data": {
      "text/plain": [
       "False"
      ]
     },
     "execution_count": 34,
     "metadata": {},
     "output_type": "execute_result"
    }
   ],
   "source": [
    "not True"
   ]
  },
  {
   "cell_type": "code",
   "execution_count": 35,
   "id": "36b0f0ae-ae2f-45be-9ddb-37625f23a47e",
   "metadata": {},
   "outputs": [
    {
     "data": {
      "text/plain": [
       "True"
      ]
     },
     "execution_count": 35,
     "metadata": {},
     "output_type": "execute_result"
    }
   ],
   "source": [
    "not False"
   ]
  },
  {
   "cell_type": "code",
   "execution_count": 36,
   "id": "7241efd8-1d00-4178-b103-8ba59c917105",
   "metadata": {},
   "outputs": [
    {
     "data": {
      "text/plain": [
       "False"
      ]
     },
     "execution_count": 36,
     "metadata": {},
     "output_type": "execute_result"
    }
   ],
   "source": [
    "not 1"
   ]
  },
  {
   "cell_type": "code",
   "execution_count": 37,
   "id": "797a188b-1d85-4245-947d-4423ddaef9a5",
   "metadata": {},
   "outputs": [
    {
     "data": {
      "text/plain": [
       "True"
      ]
     },
     "execution_count": 37,
     "metadata": {},
     "output_type": "execute_result"
    }
   ],
   "source": [
    "not 0"
   ]
  },
  {
   "cell_type": "code",
   "execution_count": null,
   "id": "96d9053a-6211-4714-9009-dc09c2878dd8",
   "metadata": {},
   "outputs": [],
   "source": []
  },
  {
   "cell_type": "code",
   "execution_count": 38,
   "id": "dd66558b-0ca2-4024-abbe-edddd869579e",
   "metadata": {},
   "outputs": [],
   "source": [
    "#Bitwise operators\n"
   ]
  },
  {
   "cell_type": "code",
   "execution_count": 39,
   "id": "a530ba37-d59d-45c6-b464-f80c2046b4e3",
   "metadata": {},
   "outputs": [
    {
     "data": {
      "text/plain": [
       "0"
      ]
     },
     "execution_count": 39,
     "metadata": {},
     "output_type": "execute_result"
    }
   ],
   "source": [
    "10&4        #isme data ko binary me convert kr ke answer deta h"
   ]
  },
  {
   "cell_type": "code",
   "execution_count": 40,
   "id": "68227ca7-ff3b-44df-9133-75781cdfda98",
   "metadata": {},
   "outputs": [
    {
     "data": {
      "text/plain": [
       "'0b1010'"
      ]
     },
     "execution_count": 40,
     "metadata": {},
     "output_type": "execute_result"
    }
   ],
   "source": [
    "bin(10)"
   ]
  },
  {
   "cell_type": "code",
   "execution_count": 41,
   "id": "9fa564fa-4352-4ae0-b76b-115ad91ff0ff",
   "metadata": {},
   "outputs": [
    {
     "data": {
      "text/plain": [
       "'0b100'"
      ]
     },
     "execution_count": 41,
     "metadata": {},
     "output_type": "execute_result"
    }
   ],
   "source": [
    "bin(4)"
   ]
  },
  {
   "cell_type": "code",
   "execution_count": 49,
   "id": "1b024456-5361-43d9-9be8-8b05e5635550",
   "metadata": {},
   "outputs": [
    {
     "data": {
      "text/plain": [
       "'0b0'"
      ]
     },
     "execution_count": 49,
     "metadata": {},
     "output_type": "execute_result"
    }
   ],
   "source": [
    "bin(0)"
   ]
  },
  {
   "cell_type": "code",
   "execution_count": 44,
   "id": "80c9a3bc-a40f-4ac4-a004-5834daaebc2e",
   "metadata": {},
   "outputs": [
    {
     "data": {
      "text/plain": [
       "' \\n10 ar 4 ke binary table me ham (and/&) operation perform krenge\\n\\n      &\\n     1 0 -> 0                 (jo place khali hota h vha pr ham 0 automatically add kr lete h)\\n     0 1 -> 0\\n     1 0 -> 0\\n     0 0 -> 0\\n\\nFinal result is 0\\n'"
      ]
     },
     "execution_count": 44,
     "metadata": {},
     "output_type": "execute_result"
    }
   ],
   "source": [
    "''' \n",
    "10 ar 4 ke binary table me ham (and/&) operation perform krenge\n",
    "\n",
    "      &\n",
    "     1 0 -> 0                 (jo place khali hota h vha pr ham 0 automatically add kr lete h)\n",
    "     0 1 -> 0\n",
    "     1 0 -> 0\n",
    "     0 0 -> 0\n",
    "\n",
    "Final result is 0 because 0 ka binnary 0 hota h\n",
    "'''\n",
    "\n"
   ]
  },
  {
   "cell_type": "code",
   "execution_count": null,
   "id": "52c2dc69-8b9c-4dd9-a084-d3c8d31742f4",
   "metadata": {},
   "outputs": [],
   "source": []
  },
  {
   "cell_type": "code",
   "execution_count": 46,
   "id": "7899b9fc-1ddb-422f-9ffd-62e977502375",
   "metadata": {},
   "outputs": [
    {
     "data": {
      "text/plain": [
       "4"
      ]
     },
     "execution_count": 46,
     "metadata": {},
     "output_type": "execute_result"
    }
   ],
   "source": [
    "20&6"
   ]
  },
  {
   "cell_type": "code",
   "execution_count": 47,
   "id": "80ccb707-7acb-43ee-8ae1-66f3b32b1029",
   "metadata": {},
   "outputs": [
    {
     "data": {
      "text/plain": [
       "'0b10100'"
      ]
     },
     "execution_count": 47,
     "metadata": {},
     "output_type": "execute_result"
    }
   ],
   "source": [
    "bin(20)"
   ]
  },
  {
   "cell_type": "code",
   "execution_count": 50,
   "id": "0cab3fb9-4114-4497-a32c-ef8b33026182",
   "metadata": {},
   "outputs": [
    {
     "data": {
      "text/plain": [
       "'0b110'"
      ]
     },
     "execution_count": 50,
     "metadata": {},
     "output_type": "execute_result"
    }
   ],
   "source": [
    "bin(6)"
   ]
  },
  {
   "cell_type": "code",
   "execution_count": 51,
   "id": "730e233c-878f-4964-9842-40c63bbd1c88",
   "metadata": {},
   "outputs": [
    {
     "data": {
      "text/plain": [
       "'0b100'"
      ]
     },
     "execution_count": 51,
     "metadata": {},
     "output_type": "execute_result"
    }
   ],
   "source": [
    "bin(4)"
   ]
  },
  {
   "cell_type": "code",
   "execution_count": 55,
   "id": "fbbb3119-93dd-4499-af6a-06ba9505436d",
   "metadata": {},
   "outputs": [
    {
     "data": {
      "text/plain": [
       "'\\n20 ar 6 ke bich me binary operation (and) ka perform krte h\\n         \\n         &\\n       1  0 -> 0\\n       0  0 -> 0\\n       1  1 -> 1\\n       0  1 -> 0\\n       0  0 -> 0\\n       \\nFinal result is 4 because 4 ka binary 100 hota h\\n'"
      ]
     },
     "execution_count": 55,
     "metadata": {},
     "output_type": "execute_result"
    }
   ],
   "source": [
    "'''\n",
    "20 ar 6 ke bich me binary operation (and) ka perform krte h\n",
    "         \n",
    "         &\n",
    "       1  0 -> 0\n",
    "       0  0 -> 0\n",
    "       1  1 -> 1\n",
    "       0  1 -> 0\n",
    "       0  0 -> 0\n",
    "       \n",
    "Final result is 4 because 4 ka binary 100 hota h\n",
    "'''"
   ]
  },
  {
   "cell_type": "code",
   "execution_count": null,
   "id": "b03bfa4e-c1b4-4422-92b4-55aba7e3a702",
   "metadata": {},
   "outputs": [],
   "source": []
  },
  {
   "cell_type": "code",
   "execution_count": 56,
   "id": "783632b2-0377-4737-90a4-b1e40ea0f39f",
   "metadata": {},
   "outputs": [
    {
     "data": {
      "text/plain": [
       "15"
      ]
     },
     "execution_count": 56,
     "metadata": {},
     "output_type": "execute_result"
    }
   ],
   "source": [
    "11 | 5"
   ]
  },
  {
   "cell_type": "code",
   "execution_count": 57,
   "id": "1a7c15db-48e0-4a5e-8ba6-342afed365bd",
   "metadata": {},
   "outputs": [
    {
     "data": {
      "text/plain": [
       "'0b1011'"
      ]
     },
     "execution_count": 57,
     "metadata": {},
     "output_type": "execute_result"
    }
   ],
   "source": [
    "bin(11)"
   ]
  },
  {
   "cell_type": "code",
   "execution_count": 58,
   "id": "10ede9f3-4c80-4cb2-be6c-d3e33b5493db",
   "metadata": {},
   "outputs": [
    {
     "data": {
      "text/plain": [
       "'0b101'"
      ]
     },
     "execution_count": 58,
     "metadata": {},
     "output_type": "execute_result"
    }
   ],
   "source": [
    "bin(5)"
   ]
  },
  {
   "cell_type": "code",
   "execution_count": 59,
   "id": "7241c89e-f7d6-4381-a52f-f3421bbb6fb3",
   "metadata": {},
   "outputs": [
    {
     "data": {
      "text/plain": [
       "'0b1111'"
      ]
     },
     "execution_count": 59,
     "metadata": {},
     "output_type": "execute_result"
    }
   ],
   "source": [
    "bin(15)"
   ]
  },
  {
   "cell_type": "code",
   "execution_count": 60,
   "id": "d75beb89-fc91-482d-9b70-7cfe1b10eebe",
   "metadata": {},
   "outputs": [
    {
     "data": {
      "text/plain": [
       "'\\n11 ar 5 ke bich me binary operation (or/|) ko perform krte h\\n         \\n       or/|\\n       1  0 -> 1\\n       0  1 -> 1\\n       1  0 -> 1\\n       1  1 -> 1\\n      \\n       \\nFinal result is 15 because 15 ka binary 1111 hota h\\n'"
      ]
     },
     "execution_count": 60,
     "metadata": {},
     "output_type": "execute_result"
    }
   ],
   "source": [
    "'''\n",
    "11 ar 5 ke bich me binary operation (or/|) ko perform krte h\n",
    "         \n",
    "       or/|\n",
    "       1  0 -> 1\n",
    "       0  1 -> 1\n",
    "       1  0 -> 1\n",
    "       1  1 -> 1\n",
    "      \n",
    "       \n",
    "Final result is 15 because 15 ka binary 1111 hota h\n",
    "'''"
   ]
  },
  {
   "cell_type": "code",
   "execution_count": 1,
   "id": "afea1564-bc3c-4543-a04d-0933d6abf33b",
   "metadata": {},
   "outputs": [
    {
     "data": {
      "text/plain": [
       "13"
      ]
     },
     "execution_count": 1,
     "metadata": {},
     "output_type": "execute_result"
    }
   ],
   "source": [
    "13 | 8"
   ]
  },
  {
   "cell_type": "code",
   "execution_count": 63,
   "id": "740c8dae-a257-4919-a270-7cbba3371ad1",
   "metadata": {},
   "outputs": [
    {
     "data": {
      "text/plain": [
       "-13"
      ]
     },
     "execution_count": 63,
     "metadata": {},
     "output_type": "execute_result"
    }
   ],
   "source": [
    "~12           # ~ symbole of not/negation"
   ]
  },
  {
   "cell_type": "code",
   "execution_count": 64,
   "id": "aa823739-faa0-4fda-96ea-166ef8d65c06",
   "metadata": {},
   "outputs": [
    {
     "data": {
      "text/plain": [
       "'0b1100'"
      ]
     },
     "execution_count": 64,
     "metadata": {},
     "output_type": "execute_result"
    }
   ],
   "source": [
    "bin(12)"
   ]
  },
  {
   "cell_type": "code",
   "execution_count": 65,
   "id": "33451e08-5a29-4ce8-b777-1a677c649d5f",
   "metadata": {},
   "outputs": [
    {
     "data": {
      "text/plain": [
       "'0b1101'"
      ]
     },
     "execution_count": 65,
     "metadata": {},
     "output_type": "execute_result"
    }
   ],
   "source": [
    "bin(13)"
   ]
  },
  {
   "cell_type": "code",
   "execution_count": null,
   "id": "3bead3fb-a483-4c0f-a908-06626f9a2173",
   "metadata": {},
   "outputs": [],
   "source": []
  },
  {
   "cell_type": "code",
   "execution_count": 66,
   "id": "2ea5f5d7-289b-469d-aeb3-2f045bfb5192",
   "metadata": {},
   "outputs": [
    {
     "data": {
      "text/plain": [
       "'\\nLets see how it calculates to give answer\\n\\n      -(1100 + 1)\\n        -(1101)\\n'"
      ]
     },
     "execution_count": 66,
     "metadata": {},
     "output_type": "execute_result"
    }
   ],
   "source": [
    "'''\n",
    "Lets see how it calculates to give answer -13\n",
    "\n",
    "      -(1100 + 1)\n",
    "        -(1101)\n",
    "'''"
   ]
  },
  {
   "cell_type": "code",
   "execution_count": 67,
   "id": "8c117705-1509-4c98-a372-a797f37004a4",
   "metadata": {},
   "outputs": [
    {
     "data": {
      "text/plain": [
       "-21"
      ]
     },
     "execution_count": 67,
     "metadata": {},
     "output_type": "execute_result"
    }
   ],
   "source": [
    "~20"
   ]
  },
  {
   "cell_type": "code",
   "execution_count": 68,
   "id": "aeb2ba1b-9059-49d1-97b3-3a9476414bba",
   "metadata": {},
   "outputs": [
    {
     "data": {
      "text/plain": [
       "'0b10100'"
      ]
     },
     "execution_count": 68,
     "metadata": {},
     "output_type": "execute_result"
    }
   ],
   "source": [
    "bin(20)"
   ]
  },
  {
   "cell_type": "code",
   "execution_count": 69,
   "id": "90c9b1a3-4263-4db5-ad05-316ee5071987",
   "metadata": {},
   "outputs": [
    {
     "data": {
      "text/plain": [
       "'0b10101'"
      ]
     },
     "execution_count": 69,
     "metadata": {},
     "output_type": "execute_result"
    }
   ],
   "source": [
    "bin(21)"
   ]
  },
  {
   "cell_type": "code",
   "execution_count": 70,
   "id": "1869e9fb-e928-4d6c-a888-c58733809c78",
   "metadata": {},
   "outputs": [
    {
     "data": {
      "text/plain": [
       "'\\nLets see how it calculates to give answer -21\\n\\n      -(10100 + 1)\\n        -(10101)\\n'"
      ]
     },
     "execution_count": 70,
     "metadata": {},
     "output_type": "execute_result"
    }
   ],
   "source": [
    "'''\n",
    "Lets see how it calculates to give answer -21\n",
    "\n",
    "      -(10100 + 1)\n",
    "        -(10101)\n",
    "'''"
   ]
  },
  {
   "cell_type": "code",
   "execution_count": 2,
   "id": "7ab5b5cd",
   "metadata": {},
   "outputs": [
    {
     "data": {
      "text/plain": [
       "-31"
      ]
     },
     "execution_count": 2,
     "metadata": {},
     "output_type": "execute_result"
    }
   ],
   "source": [
    "~30"
   ]
  },
  {
   "cell_type": "code",
   "execution_count": 5,
   "id": "62da04ae",
   "metadata": {},
   "outputs": [
    {
     "data": {
      "text/plain": [
       "-18"
      ]
     },
     "execution_count": 5,
     "metadata": {},
     "output_type": "execute_result"
    }
   ],
   "source": [
    "~17"
   ]
  },
  {
   "cell_type": "code",
   "execution_count": 72,
   "id": "b688f030-4ad3-4de9-baed-23c8cd55923b",
   "metadata": {},
   "outputs": [],
   "source": [
    "a = 8"
   ]
  },
  {
   "cell_type": "code",
   "execution_count": 73,
   "id": "62b6e034-c295-45d2-abfc-326469faf1c2",
   "metadata": {},
   "outputs": [
    {
     "data": {
      "text/plain": [
       "2"
      ]
     },
     "execution_count": 73,
     "metadata": {},
     "output_type": "execute_result"
    }
   ],
   "source": [
    "a >> 2          #right shift operator"
   ]
  },
  {
   "cell_type": "code",
   "execution_count": 87,
   "id": "cf24cf33-96ac-4621-bfc6-8f47938c942a",
   "metadata": {},
   "outputs": [
    {
     "data": {
      "text/plain": [
       "'\\nLets see how it works\\n\\nin case of 2\\n                 --->\\n     1000 => 10  00   ____  nikal gya ye part  \\n             --\\n             bacha ye vala\\n             \\nFinal result diya 2, kyuki 2 ka binary 10 hota h\\n               \\nIncase of 3\\n                    --->\\n         1000 => 1  000  _____ nikal gya \\n                 -\\n                 bacha ye vala\\n                 \\nFinal result diya 1 , kyuki 1 ka binary 1 hota h\\n\\nand whether it is \\n4\\n5\\n6\\nso on....\\nwe calculate right shift operator in this way\\n'"
      ]
     },
     "execution_count": 87,
     "metadata": {},
     "output_type": "execute_result"
    }
   ],
   "source": [
    "'''\n",
    "Lets see how it works\n",
    "\n",
    "in case of 2\n",
    "                 --->\n",
    "     1000 => 10  00   ____  nikal gya ye part  \n",
    "             --\n",
    "             bacha ye vala\n",
    "             \n",
    "Final result diya 2, kyuki 2 ka binary 10 hota h\n",
    "               \n",
    "Incase of 3\n",
    "                    --->\n",
    "         1000 => 1  000  _____ nikal gya \n",
    "                 -\n",
    "                 bacha ye vala\n",
    "                 \n",
    "Final result diya 1 , kyuki 1 ka binary 1 hota h\n",
    "\n",
    "and whether it is \n",
    "4\n",
    "5\n",
    "6\n",
    "so on....\n",
    "we calculate right shift operator in this way\n",
    "'''"
   ]
  },
  {
   "cell_type": "code",
   "execution_count": 74,
   "id": "7f1eeff9-8065-44d9-9507-3b39f5db3792",
   "metadata": {},
   "outputs": [
    {
     "data": {
      "text/plain": [
       "'0b1000'"
      ]
     },
     "execution_count": 74,
     "metadata": {},
     "output_type": "execute_result"
    }
   ],
   "source": [
    "bin(a)"
   ]
  },
  {
   "cell_type": "code",
   "execution_count": 78,
   "id": "14fc38d7-527c-4d3c-b7e4-c0c2cf3e9d15",
   "metadata": {},
   "outputs": [
    {
     "data": {
      "text/plain": [
       "'0b10'"
      ]
     },
     "execution_count": 78,
     "metadata": {},
     "output_type": "execute_result"
    }
   ],
   "source": [
    "bin(2)"
   ]
  },
  {
   "cell_type": "code",
   "execution_count": 75,
   "id": "cafb26e3-e979-4425-a7f0-01cf0c4d3c21",
   "metadata": {},
   "outputs": [
    {
     "data": {
      "text/plain": [
       "1"
      ]
     },
     "execution_count": 75,
     "metadata": {},
     "output_type": "execute_result"
    }
   ],
   "source": [
    "a >> 3"
   ]
  },
  {
   "cell_type": "code",
   "execution_count": 79,
   "id": "b1287d27-1ece-4485-9289-587c0d0a85af",
   "metadata": {},
   "outputs": [
    {
     "data": {
      "text/plain": [
       "'0b1'"
      ]
     },
     "execution_count": 79,
     "metadata": {},
     "output_type": "execute_result"
    }
   ],
   "source": [
    "bin(1)"
   ]
  },
  {
   "cell_type": "code",
   "execution_count": 76,
   "id": "dca53b44-f3c9-4010-a02e-a7984c323685",
   "metadata": {},
   "outputs": [
    {
     "data": {
      "text/plain": [
       "0"
      ]
     },
     "execution_count": 76,
     "metadata": {},
     "output_type": "execute_result"
    }
   ],
   "source": [
    "a >> 4"
   ]
  },
  {
   "cell_type": "code",
   "execution_count": 77,
   "id": "56d02d7d-9d7d-4ebc-a6b5-6c5d2f304e38",
   "metadata": {},
   "outputs": [
    {
     "data": {
      "text/plain": [
       "0"
      ]
     },
     "execution_count": 77,
     "metadata": {},
     "output_type": "execute_result"
    }
   ],
   "source": [
    "a >> 5"
   ]
  },
  {
   "cell_type": "code",
   "execution_count": 6,
   "id": "0b7fc2b6-1353-48f5-992c-4a3852808259",
   "metadata": {},
   "outputs": [
    {
     "data": {
      "text/plain": [
       "2"
      ]
     },
     "execution_count": 6,
     "metadata": {},
     "output_type": "execute_result"
    }
   ],
   "source": [
    "8>>2"
   ]
  },
  {
   "cell_type": "code",
   "execution_count": 7,
   "id": "ba73357f",
   "metadata": {},
   "outputs": [
    {
     "data": {
      "text/plain": [
       "1"
      ]
     },
     "execution_count": 7,
     "metadata": {},
     "output_type": "execute_result"
    }
   ],
   "source": [
    "8>>3"
   ]
  },
  {
   "cell_type": "code",
   "execution_count": 8,
   "id": "413110e4",
   "metadata": {},
   "outputs": [
    {
     "data": {
      "text/plain": [
       "0"
      ]
     },
     "execution_count": 8,
     "metadata": {},
     "output_type": "execute_result"
    }
   ],
   "source": [
    "8>>4"
   ]
  },
  {
   "cell_type": "code",
   "execution_count": 80,
   "id": "ce6acbb9-ab53-4caa-8f31-392086bac2f0",
   "metadata": {},
   "outputs": [
    {
     "data": {
      "text/plain": [
       "80"
      ]
     },
     "execution_count": 80,
     "metadata": {},
     "output_type": "execute_result"
    }
   ],
   "source": [
    "20 << 2             #left shift operators"
   ]
  },
  {
   "cell_type": "code",
   "execution_count": 9,
   "id": "b719416f",
   "metadata": {},
   "outputs": [
    {
     "data": {
      "text/plain": [
       "'0b10100'"
      ]
     },
     "execution_count": 9,
     "metadata": {},
     "output_type": "execute_result"
    }
   ],
   "source": [
    "bin(20)"
   ]
  },
  {
   "cell_type": "code",
   "execution_count": 84,
   "id": "98e389aa-e0e5-423b-bd55-669723299d7a",
   "metadata": {},
   "outputs": [
    {
     "data": {
      "text/plain": [
       "'0b1010000'"
      ]
     },
     "execution_count": 84,
     "metadata": {},
     "output_type": "execute_result"
    }
   ],
   "source": [
    "bin(80)"
   ]
  },
  {
   "cell_type": "code",
   "execution_count": 81,
   "id": "be439038-6451-4751-9b35-647f222d536b",
   "metadata": {},
   "outputs": [
    {
     "data": {
      "text/plain": [
       "160"
      ]
     },
     "execution_count": 81,
     "metadata": {},
     "output_type": "execute_result"
    }
   ],
   "source": [
    "20 << 3"
   ]
  },
  {
   "cell_type": "code",
   "execution_count": 85,
   "id": "31f56c4e-cab6-4341-aa0a-ab4870dd6920",
   "metadata": {},
   "outputs": [
    {
     "data": {
      "text/plain": [
       "'0b10100000'"
      ]
     },
     "execution_count": 85,
     "metadata": {},
     "output_type": "execute_result"
    }
   ],
   "source": [
    "bin(160)"
   ]
  },
  {
   "cell_type": "code",
   "execution_count": 82,
   "id": "410cf86c-ec5c-4cda-82a7-9dea38296b84",
   "metadata": {},
   "outputs": [
    {
     "data": {
      "text/plain": [
       "320"
      ]
     },
     "execution_count": 82,
     "metadata": {},
     "output_type": "execute_result"
    }
   ],
   "source": [
    "20 << 4"
   ]
  },
  {
   "cell_type": "code",
   "execution_count": null,
   "id": "79ab671e-89df-4a74-922a-227c02dfe40e",
   "metadata": {},
   "outputs": [],
   "source": []
  },
  {
   "cell_type": "code",
   "execution_count": 83,
   "id": "50aa49fc-7e26-4bcd-badb-be8f94dab070",
   "metadata": {},
   "outputs": [
    {
     "data": {
      "text/plain": [
       "'0b10100'"
      ]
     },
     "execution_count": 83,
     "metadata": {},
     "output_type": "execute_result"
    }
   ],
   "source": [
    "bin(20)"
   ]
  },
  {
   "cell_type": "code",
   "execution_count": 88,
   "id": "f794e5a9-399c-4ea8-b906-ce0511ef455d",
   "metadata": {},
   "outputs": [
    {
     "data": {
      "text/plain": [
       "'\\nLets see hoe left shift operator works\\n\\nIncase of 2\\n                    <--\\n      10100 => 1010000     left side jitna ham jate jayenge utne 0 add hote jayenge\\n                    --\\n\\nfinale result is 80 because binary of 80 is 1010000.\\n\\nIncase of 3\\n                    <---  \\n      10100 => 10100000\\n                    ---\\n\\nFinale result is 160 because binary of 160 is 10100000.\\n\\n\\nand so on ... computation\\n'"
      ]
     },
     "execution_count": 88,
     "metadata": {},
     "output_type": "execute_result"
    }
   ],
   "source": [
    "'''\n",
    "Lets see hoe left shift operator works\n",
    "\n",
    "Incase of 2\n",
    "                    <--\n",
    "      10100 => 1010000     left side jitna ham jate jayenge utne 0 add hote jayenge\n",
    "                    --\n",
    "\n",
    "finale result is 80 because binary of 80 is 1010000.\n",
    "\n",
    "Incase of 3\n",
    "                    <---  \n",
    "      10100 => 10100000\n",
    "                    ---\n",
    "\n",
    "Finale result is 160 because binary of 160 is 10100000.\n",
    "\n",
    "\n",
    "and so on ... computation\n",
    "'''"
   ]
  },
  {
   "cell_type": "code",
   "execution_count": 89,
   "id": "6a128ac6-32bd-447b-ad78-fa07c8255270",
   "metadata": {},
   "outputs": [],
   "source": [
    "# Assignment operators\n",
    "\n"
   ]
  },
  {
   "cell_type": "code",
   "execution_count": 2,
   "id": "43388598-f0e0-42ca-99a7-9a46e5059ff0",
   "metadata": {},
   "outputs": [],
   "source": [
    "a = 10"
   ]
  },
  {
   "cell_type": "code",
   "execution_count": 3,
   "id": "1166aeae-3db0-45f2-98e2-7099aa6d8006",
   "metadata": {},
   "outputs": [],
   "source": [
    "a+=1   "
   ]
  },
  {
   "cell_type": "code",
   "execution_count": null,
   "id": "598a734a-3ed8-4549-b222-b772b31f86f8",
   "metadata": {},
   "outputs": [],
   "source": [
    "'''\n",
    "+= -> iska matlab ham add kr rhe h\n",
    "\n",
    "a+=1 -> a=a+1    ye dono yek hi h \n",
    "\n",
    "yhi same case subtraction me bhi hota h\n",
    "\n",
    "-= -> iska mtlab ham subtract kr rhe h\n",
    "'''"
   ]
  },
  {
   "cell_type": "code",
   "execution_count": 4,
   "id": "1570be95-bf86-41b5-93ec-b4e5dc60000c",
   "metadata": {},
   "outputs": [
    {
     "data": {
      "text/plain": [
       "11"
      ]
     },
     "execution_count": 4,
     "metadata": {},
     "output_type": "execute_result"
    }
   ],
   "source": [
    "a"
   ]
  },
  {
   "cell_type": "code",
   "execution_count": 5,
   "id": "59879440-71e4-4c1a-b7a8-13d2e99cf82d",
   "metadata": {},
   "outputs": [],
   "source": [
    "a-=1"
   ]
  },
  {
   "cell_type": "code",
   "execution_count": 6,
   "id": "5540bf4f",
   "metadata": {},
   "outputs": [
    {
     "data": {
      "text/plain": [
       "10"
      ]
     },
     "execution_count": 6,
     "metadata": {},
     "output_type": "execute_result"
    }
   ],
   "source": [
    "a"
   ]
  },
  {
   "cell_type": "code",
   "execution_count": 7,
   "id": "88cf03c7",
   "metadata": {},
   "outputs": [],
   "source": [
    "a-=2"
   ]
  },
  {
   "cell_type": "code",
   "execution_count": 8,
   "id": "b264d160",
   "metadata": {},
   "outputs": [
    {
     "data": {
      "text/plain": [
       "8"
      ]
     },
     "execution_count": 8,
     "metadata": {},
     "output_type": "execute_result"
    }
   ],
   "source": [
    "a"
   ]
  },
  {
   "cell_type": "code",
   "execution_count": null,
   "id": "c7da5e51",
   "metadata": {},
   "outputs": [],
   "source": []
  }
 ],
 "metadata": {
  "kernelspec": {
   "display_name": "Python 3 (ipykernel)",
   "language": "python",
   "name": "python3"
  },
  "language_info": {
   "codemirror_mode": {
    "name": "ipython",
    "version": 3
   },
   "file_extension": ".py",
   "mimetype": "text/x-python",
   "name": "python",
   "nbconvert_exporter": "python",
   "pygments_lexer": "ipython3",
   "version": "3.11.5"
  }
 },
 "nbformat": 4,
 "nbformat_minor": 5
}
