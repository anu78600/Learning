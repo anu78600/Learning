{
 "cells": [
  {
   "cell_type": "markdown",
   "metadata": {},
   "source": [
    "if else elif"
   ]
  },
  {
   "cell_type": "code",
   "execution_count": 22,
   "metadata": {},
   "outputs": [],
   "source": [
    "a = 10\n",
    "if a > 10 :\n",
    "    print(\"yes a is greater than 10\")                   # 10>10 which is false statement, thats why it does not proceed it further"
   ]
  },
  {
   "cell_type": "code",
   "execution_count": 19,
   "metadata": {},
   "outputs": [],
   "source": [
    "a = 10\n",
    "if a < 10 :                                              #false statement\n",
    "    print(\"yes a is less than 10\") "
   ]
  },
  {
   "cell_type": "code",
   "execution_count": 20,
   "metadata": {},
   "outputs": [
    {
     "name": "stdout",
     "output_type": "stream",
     "text": [
      "yes a is equal to 10\n"
     ]
    }
   ],
   "source": [
    "a = 10\n",
    "if a == 10 :                                              #true statements , thats why it process it further\n",
    "    print(\"yes a is equal to 10\") "
   ]
  },
  {
   "cell_type": "code",
   "execution_count": 21,
   "metadata": {},
   "outputs": [
    {
     "ename": "IndentationError",
     "evalue": "expected an indented block after 'if' statement on line 2 (1794784671.py, line 3)",
     "output_type": "error",
     "traceback": [
      "\u001b[1;36m  Cell \u001b[1;32mIn[21], line 3\u001b[1;36m\u001b[0m\n\u001b[1;33m    print(\"yes a is greater than 10\")                    # hame always yad rkhna h ki koi vhi conditional statement ke baad vali line me yek tab ke baad hi code likhenge.\u001b[0m\n\u001b[1;37m    ^\u001b[0m\n\u001b[1;31mIndentationError\u001b[0m\u001b[1;31m:\u001b[0m expected an indented block after 'if' statement on line 2\n"
     ]
    }
   ],
   "source": [
    "a = 10\n",
    "if a == 10 :\n",
    "print(\"yes a is greater than 10\")                    # hame always yad rkhna h ki koi vhi conditional statement ke baad vali line me yek tab ke baad hi code likhenge."
   ]
  },
  {
   "cell_type": "code",
   "execution_count": null,
   "metadata": {},
   "outputs": [
    {
     "name": "stdout",
     "output_type": "stream",
     "text": [
      "yes a is equal to 10\n"
     ]
    }
   ],
   "source": [
    "a = 10\n",
    "if a == 10 :\n",
    " print(\"yes a is equal to 10\")         #yek tab ko chhor kr likha h print function"
   ]
  },
  {
   "cell_type": "code",
   "execution_count": null,
   "metadata": {},
   "outputs": [
    {
     "name": "stdout",
     "output_type": "stream",
     "text": [
      "b is lesser than 40\n"
     ]
    }
   ],
   "source": [
    "b = 20                                    # one by one check karta h conditions ko\n",
    "if b > 30 :\n",
    "    print(\"b is greater than 30\")        # phle ye kiya check to false h \n",
    "elif b < 40 :\n",
    "    print(\"b is lesser than 40\")          # phir ye kiya check to true h , phir execute kr diya "
   ]
  },
  {
   "cell_type": "code",
   "execution_count": null,
   "metadata": {},
   "outputs": [
    {
     "name": "stdout",
     "output_type": "stream",
     "text": [
      "this is my default\n"
     ]
    }
   ],
   "source": [
    "b = 20                                    \n",
    "if b > 30 :\n",
    "    print(\"b is greater than 30\")         \n",
    "elif b < 10 :\n",
    "    print(\"b is lesser than 10\")         # agr koi conditions true nahi hui to ye else vala dikhayega\n",
    "else :\n",
    "    print(\"this is my default\")    "
   ]
  },
  {
   "cell_type": "code",
   "execution_count": null,
   "metadata": {},
   "outputs": [],
   "source": [
    "# user se input lene ke liye ham yek function use karte h \n",
    "\n",
    "c = input()        #yha hamne 123 input kiya h\n",
    "\n",
    "# lekin ye hamesa output deta h string form me \n",
    "# agar hame koi aur data type chahiye to ham input ko typecasting kr denge"
   ]
  },
  {
   "cell_type": "code",
   "execution_count": null,
   "metadata": {},
   "outputs": [
    {
     "data": {
      "text/plain": [
       "str"
      ]
     },
     "execution_count": 6,
     "metadata": {},
     "output_type": "execute_result"
    }
   ],
   "source": [
    "type(c)"
   ]
  },
  {
   "cell_type": "code",
   "execution_count": null,
   "metadata": {},
   "outputs": [],
   "source": [
    "d = int(input())       # hamne type cast kr diya"
   ]
  },
  {
   "cell_type": "code",
   "execution_count": null,
   "metadata": {},
   "outputs": [
    {
     "data": {
      "text/plain": [
       "int"
      ]
     },
     "execution_count": 3,
     "metadata": {},
     "output_type": "execute_result"
    }
   ],
   "source": [
    "type(d)"
   ]
  },
  {
   "cell_type": "code",
   "execution_count": 1,
   "metadata": {},
   "outputs": [
    {
     "name": "stdout",
     "output_type": "stream",
     "text": [
      "d is greater than 30\n"
     ]
    }
   ],
   "source": [
    "d = int(input())\n",
    "if d > 30 :\n",
    "    print(\"d is greater than 30\")         \n",
    "elif d < 10 :\n",
    "    print(\"d is lesser than 10\")        # isme ham input de kar condition ko check krenge\n",
    "else :                                   # ar jo condition phle shi hogi vo execute hogi\n",
    "    print(\"this is my default\")  "
   ]
  },
  {
   "cell_type": "markdown",
   "metadata": {},
   "source": [
    "while loop "
   ]
  },
  {
   "cell_type": "code",
   "execution_count": null,
   "metadata": {},
   "outputs": [
    {
     "name": "stdout",
     "output_type": "stream",
     "text": [
      "1\n",
      "2\n",
      "3\n"
     ]
    }
   ],
   "source": [
    "n = 4 \n",
    "i = 1\n",
    "while i < n :  # ye tab tak conditions ko execute karta h jab tak vo false na ho jaye\n",
    "    print(i)                      \n",
    "    i = i + 1"
   ]
  },
  {
   "cell_type": "code",
   "execution_count": null,
   "metadata": {},
   "outputs": [
    {
     "data": {
      "text/plain": [
       "'\\nn = 4\\ni = 1 \\nwhile i < n :\\n    print(i)\\n    i = i + 1\\n\\nlets see how it works \\n\\n 1 > 4     true \\n 1 = 1+1\\n i = 2\\n 2 > 4       true\\n 2 = 2+1\\n i = 3\\n 3 > 4      true\\n 3 = 3 + 1\\n i = 4 \\n 4 > 4   false           loop close, aage print nahi krega\\n '"
      ]
     },
     "execution_count": 13,
     "metadata": {},
     "output_type": "execute_result"
    }
   ],
   "source": [
    "'''\n",
    "n = 4\n",
    "i = 1 \n",
    "while i < n :\n",
    "    print(i)\n",
    "    i = i + 1\n",
    "\n",
    "lets see how it works \n",
    "\n",
    " 1 < 4     true \n",
    " 1 = 1+1\n",
    " i = 2\n",
    " 2 < 4       true\n",
    " 2 = 2+1\n",
    " i = 3\n",
    " 3 < 4      true\n",
    " 3 = 3 + 1\n",
    " i = 4 \n",
    " 4 < 4   false           loop close, aage print nahi krega\n",
    " '''"
   ]
  },
  {
   "cell_type": "code",
   "execution_count": null,
   "metadata": {},
   "outputs": [
    {
     "name": "stdout",
     "output_type": "stream",
     "text": [
      "1\n",
      "2\n",
      "3\n",
      "this is my else\n"
     ]
    }
   ],
   "source": [
    "n = 4 \n",
    "i = 1\n",
    "while i < n :  # ye tab tak conditions ko execute karta h jab tak vo false na ho jaye\n",
    "    print(i)                      \n",
    "    i = i + 1\n",
    "else :          # false hone ke baad ye else condition ko execute karega\n",
    "    print(\"this is my else\")"
   ]
  },
  {
   "cell_type": "code",
   "execution_count": null,
   "metadata": {},
   "outputs": [
    {
     "name": "stdout",
     "output_type": "stream",
     "text": [
      "1\n",
      "2\n"
     ]
    }
   ],
   "source": [
    "n = 4 \n",
    "i = 1\n",
    "while i < n :  # ye tab tak conditions ko execute karta h jab tak vo false na ho jaye\n",
    "    print(i)                      \n",
    "    i = i + 1\n",
    "    if i == 3 :      # yha pr hamne forcily condition ko complete hone se phle hi break kra diya  \n",
    "         break      # isse while ne break ke baad kuch execute hi nhi kiya\n",
    "else :          \n",
    "    print(\"this is my else\")"
   ]
  },
  {
   "cell_type": "code",
   "execution_count": null,
   "metadata": {},
   "outputs": [
    {
     "data": {
      "text/plain": [
       "'\\nn = 4 \\ni = 1\\nwhile i < n :\\n    print(i)                      \\n    i = i + 1\\n    if i == 3 : \\n         break      \\nelse :          \\n    print(\"this is my else\")\\n    \\n  lets see how it works\\n  \\n  1 < 4     true\\n  1 = 1+1 \\n  i = 2\\n\\n  phir if vala v execute krega\\n\\n  i == 3 -> 2 == 3  false\\n\\n  2 < 4    true\\n  2 = 2+1\\n i = 3\\n\\n i == 3 ->  3 == 3    true \\n\\n iske baad hamne break condition use kiya h , jaise 3==3 hua \\n  loop ko hamne complete hone se phle break kr diya   \\n\\n  iske baad ka while kuch v execute nhi krega  \\n      \\n        \\nisi liye ham output me 1 , 2 paye h   \\n\\n3 me jane se phle hi hamne loop ko break kr diya\\n            \\n'"
      ]
     },
     "execution_count": 17,
     "metadata": {},
     "output_type": "execute_result"
    }
   ],
   "source": [
    "'''\n",
    "n = 4 \n",
    "i = 1\n",
    "while i < n :\n",
    "    print(i)                      \n",
    "    i = i + 1\n",
    "    if i == 3 : \n",
    "         break      \n",
    "else :          \n",
    "    print(\"this is my else\")\n",
    "    \n",
    "  lets see how it works\n",
    "  \n",
    "  1 < 4     true\n",
    "  1 = 1+1 \n",
    "  i = 2\n",
    "\n",
    "  phir if vala v execute krega\n",
    "\n",
    "  i == 3 -> 2 == 3  false\n",
    "\n",
    "  2 < 4    true\n",
    "  2 = 2+1\n",
    " i = 3\n",
    "\n",
    " i == 3 ->  3 == 3    true \n",
    "\n",
    " iske baad hamne break condition use kiya h , jaise 3==3 hua \n",
    "  loop ko hamne complete hone se phle break kr diya   \n",
    "\n",
    "  iske baad ka while kuch v execute nhi krega  \n",
    "      \n",
    "        \n",
    "isi liye ham output me 1 , 2 paye h   \n",
    "\n",
    "3 me jane se phle hi hamne loop ko break kr diya\n",
    "            \n",
    "'''"
   ]
  },
  {
   "cell_type": "markdown",
   "metadata": {},
   "source": [
    "For loop"
   ]
  },
  {
   "cell_type": "code",
   "execution_count": 23,
   "metadata": {},
   "outputs": [
    {
     "name": "stdout",
     "output_type": "stream",
     "text": [
      "s\n",
      "u\n",
      "d\n",
      "h\n"
     ]
    }
   ],
   "source": [
    "s = \"sudh\"       # agr hme yek yek character alg chahiye , isko ham philhal ke liye for loop use kr ke krenge\n",
    "for i in s :     # i ki jagh ham koi v variable le skte h\n",
    "    print(i)"
   ]
  },
  {
   "cell_type": "code",
   "execution_count": 24,
   "metadata": {},
   "outputs": [
    {
     "data": {
      "text/plain": [
       "'\\ns = \"sudh\"     \\nfor i in s :     \\n    print(i)\\n\\nlets see how it works \\n      0 1 2 3\\n      s u d h\\n\\nfor krta kya h\\n\\njo v index based element h one by one sb ke pass ja kr yek yek kr ke nikal ke layega\\n\\n  ar jo v operation user ne diya hoga uss data pr perform krega\\n\\n  Data nikal ke khi to ye rkhega , iss case me local variable use hota h\\n\\n\\n  upr ke code me \\n\\n  for ne data ko nikala , jo ki \\'sudh\\' h one by one \\n  phir local variable me rkha\\n  iske baad hame , local variable ko print karne ka operation diya tha vo perform kiya \\n\\n  final , output diya \\n  s\\n  u\\n  d\\n  h\\n\\n'"
      ]
     },
     "execution_count": 24,
     "metadata": {},
     "output_type": "execute_result"
    }
   ],
   "source": [
    "'''\n",
    "s = \"sudh\"     \n",
    "for i in s :     \n",
    "    print(i)\n",
    "\n",
    "lets see how it works \n",
    "      0 1 2 3\n",
    "      s u d h\n",
    "\n",
    "for krta kya h\n",
    "\n",
    "jo v index based element h one by one sb ke pass ja kr yek yek kr ke nikal ke layega\n",
    "\n",
    "  ar jo v operation user ne diya hoga uss data pr perform krega\n",
    "\n",
    "  Data nikal ke khi to ye rkhega , iss case me local variable use hota h\n",
    "\n",
    "\n",
    "  upr ke code me \n",
    "\n",
    "  for ne data ko nikala , jo ki 'sudh' h one by one \n",
    "  phir local variable me rkha\n",
    "  iske baad hame , local variable ko print karne ka operation diya tha vo perform kiya \n",
    "\n",
    "  final , output diya \n",
    "  s\n",
    "  u\n",
    "  d\n",
    "  h\n",
    "\n",
    "'''"
   ]
  },
  {
   "cell_type": "code",
   "execution_count": 27,
   "metadata": {},
   "outputs": [
    {
     "name": "stdout",
     "output_type": "stream",
     "text": [
      "<class 'int'>\n",
      "<class 'int'>\n",
      "<class 'int'>\n",
      "<class 'int'>\n",
      "<class 'int'>\n",
      "<class 'int'>\n",
      "<class 'str'>\n",
      "<class 'str'>\n",
      "<class 'float'>\n",
      "<class 'bool'>\n"
     ]
    }
   ],
   "source": [
    "l = [1,2,3,4,5,6,\"sudh\",\"skills\",23.45,True]  # list se yek yek data ko nikalo , ar un sbhi ka data type check krte jao\n",
    "for i in l :\n",
    "     print(type(i))\n"
   ]
  },
  {
   "cell_type": "code",
   "execution_count": 29,
   "metadata": {},
   "outputs": [
    {
     "name": "stdout",
     "output_type": "stream",
     "text": [
      "<class 'int'>\n",
      "<class 'int'>\n",
      "<class 'int'>\n",
      "<class 'int'>\n",
      "<class 'int'>\n",
      "<class 'int'>\n",
      "<class 'str'>\n",
      "<class 'str'>\n",
      "<class 'float'>\n",
      "<class 'bool'>\n",
      "this will be executed once for loop is completed itself sucessfully \n"
     ]
    }
   ],
   "source": [
    "l = [1,2,3,4,5,6,\"sudh\",\"skills\",23.45,True] \n",
    "for i in l :\n",
    "     print(type(i))\n",
    "else :\n",
    "     print(\"this will be executed once for loop is completed itself sucessfully \")     "
   ]
  },
  {
   "cell_type": "code",
   "execution_count": 3,
   "metadata": {},
   "outputs": [
    {
     "name": "stdout",
     "output_type": "stream",
     "text": [
      "<class 'int'>\n",
      "<class 'int'>\n",
      "<class 'int'>\n",
      "<class 'int'>\n",
      "<class 'int'>\n",
      "<class 'int'>\n"
     ]
    }
   ],
   "source": [
    "List = [1,2,3,4,5,6,\"sudh\",\"skills\",23.45,True] \n",
    "for i in List :\n",
    "     print(type(i))\n",
    "     if i == 6 :\n",
    "      break\n",
    "else :\n",
    "     print(\"this will be executed once for loop is completed itself sucessfully \") "
   ]
  },
  {
   "cell_type": "code",
   "execution_count": 31,
   "metadata": {},
   "outputs": [
    {
     "name": "stdout",
     "output_type": "stream",
     "text": [
      "<class 'int'>\n",
      "<class 'int'>\n",
      "<class 'int'>\n",
      "<class 'int'>\n",
      "<class 'int'>\n",
      "<class 'int'>\n",
      "<class 'str'>\n",
      "<class 'str'>\n",
      "<class 'float'>\n",
      "<class 'bool'>\n",
      "this will be executed once for loop is completed itself sucessfully \n"
     ]
    }
   ],
   "source": [
    "l = [1,2,3,4,5,6,\"sudh\",\"skills\",23.45,True] \n",
    "for i in l :\n",
    "     print(type(i))\n",
    "     if i == 6 :\n",
    "      continue    # jha v hame loop ko resume krna h vha pr continue use krenge\n",
    "else :\n",
    "     print(\"this will be executed once for loop is completed itself sucessfully \") "
   ]
  },
  {
   "cell_type": "code",
   "execution_count": 32,
   "metadata": {},
   "outputs": [
    {
     "name": "stdout",
     "output_type": "stream",
     "text": [
      "<class 'int'>\n",
      "1\n",
      "<class 'int'>\n",
      "2\n",
      "<class 'int'>\n",
      "3\n",
      "<class 'int'>\n",
      "4\n",
      "<class 'int'>\n",
      "5\n",
      "<class 'int'>\n",
      "<class 'str'>\n",
      "sudh\n",
      "<class 'str'>\n",
      "skills\n",
      "<class 'float'>\n",
      "23.45\n",
      "<class 'bool'>\n",
      "True\n",
      "this will be executed once for loop is completed itself sucessfully \n"
     ]
    }
   ],
   "source": [
    "l = [1,2,3,4,5,6,\"sudh\",\"skills\",23.45,True] \n",
    "for i in l :\n",
    "     print(type(i))\n",
    "     if i == 6 :\n",
    "      continue       # ye immidiate controle de deta h 'for' ko \n",
    "     print(i)\n",
    "else :\n",
    "     print(\"this will be executed once for loop is completed itself sucessfully \") "
   ]
  },
  {
   "cell_type": "code",
   "execution_count": 33,
   "metadata": {},
   "outputs": [
    {
     "data": {
      "text/plain": [
       "\"\\n<class 'int'>\\n1\\n<class 'int'>\\n2\\n<class 'int'>\\n3\\n<class 'int'>\\n4\\n<class 'int'>\\n5\\n<class 'int'>            jaise i == 6 hua condition true hote hi turant hi continue ne controle diya for ko isse liye 6 print nhi hua\\n<class 'str'>\\nsudh\\n<class 'str'>\\nskills\\n<class 'float'>\\n23.45\\n<class 'bool'>\\nTrue\\nthis will be executed once for loop is completed itself sucessfully \\n\\n\""
      ]
     },
     "execution_count": 33,
     "metadata": {},
     "output_type": "execute_result"
    }
   ],
   "source": [
    "'''\n",
    "<class 'int'>\n",
    "1\n",
    "<class 'int'>\n",
    "2\n",
    "<class 'int'>\n",
    "3\n",
    "<class 'int'>\n",
    "4\n",
    "<class 'int'>\n",
    "5\n",
    "<class 'int'>            jaise i == 6 hua condition true hote hi turant hi continue ne controle diya for ko isse liye 6 print nhi hua\n",
    "<class 'str'>\n",
    "sudh\n",
    "<class 'str'>\n",
    "skills\n",
    "<class 'float'>\n",
    "23.45\n",
    "<class 'bool'>\n",
    "True\n",
    "this will be executed once for loop is completed itself sucessfully \n",
    "\n",
    "'''"
   ]
  },
  {
   "cell_type": "markdown",
   "metadata": {},
   "source": [
    "range"
   ]
  },
  {
   "cell_type": "code",
   "execution_count": 35,
   "metadata": {},
   "outputs": [],
   "source": [
    "#range kya krta h , ye data generate krta h"
   ]
  },
  {
   "cell_type": "code",
   "execution_count": 37,
   "metadata": {},
   "outputs": [
    {
     "data": {
      "text/plain": [
       "range(0, 10)"
      ]
     },
     "execution_count": 37,
     "metadata": {},
     "output_type": "execute_result"
    }
   ],
   "source": [
    "range(10)    # starting from 0 to 10 , excluding 10"
   ]
  },
  {
   "cell_type": "code",
   "execution_count": 38,
   "metadata": {},
   "outputs": [
    {
     "data": {
      "text/plain": [
       "[0, 1, 2, 3, 4, 5, 6, 7, 8, 9]"
      ]
     },
     "execution_count": 38,
     "metadata": {},
     "output_type": "execute_result"
    }
   ],
   "source": [
    "list(range(10))"
   ]
  },
  {
   "cell_type": "code",
   "execution_count": null,
   "metadata": {},
   "outputs": [],
   "source": []
  }
 ],
 "metadata": {
  "kernelspec": {
   "display_name": "Python 3",
   "language": "python",
   "name": "python3"
  },
  "language_info": {
   "codemirror_mode": {
    "name": "ipython",
    "version": 3
   },
   "file_extension": ".py",
   "mimetype": "text/x-python",
   "name": "python",
   "nbconvert_exporter": "python",
   "pygments_lexer": "ipython3",
   "version": "3.11.5"
  },
  "orig_nbformat": 4
 },
 "nbformat": 4,
 "nbformat_minor": 2
}
