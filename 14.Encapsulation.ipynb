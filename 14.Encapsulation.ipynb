{
 "cells": [
  {
   "cell_type": "code",
   "execution_count": 1,
   "metadata": {},
   "outputs": [],
   "source": [
    "class test :\n",
    "\n",
    "\n",
    "    def __init__(self,a,b):\n",
    "        self.a = a\n",
    "        self.b = b\n",
    "        "
   ]
  },
  {
   "cell_type": "code",
   "execution_count": 2,
   "metadata": {},
   "outputs": [],
   "source": [
    "t = test(23,34)"
   ]
  },
  {
   "cell_type": "code",
   "execution_count": 3,
   "metadata": {},
   "outputs": [],
   "source": [
    "t.a = 2345345    "
   ]
  },
  {
   "cell_type": "code",
   "execution_count": 4,
   "metadata": {},
   "outputs": [
    {
     "data": {
      "text/plain": [
       "2345345"
      ]
     },
     "execution_count": 4,
     "metadata": {},
     "output_type": "execute_result"
    }
   ],
   "source": [
    "t.a  # previous a vali value nhi dikhi , vo value dikhi jo hamne dubara assign kiya "
   ]
  },
  {
   "cell_type": "markdown",
   "metadata": {},
   "source": [
    "### How to prevent this thing , so that our code dont get errors , or accedentily overwrite the objects?"
   ]
  },
  {
   "cell_type": "code",
   "execution_count": 5,
   "metadata": {},
   "outputs": [
    {
     "data": {
      "text/plain": [
       "'\\nEncapusulation =\\n\\ncize ho ham private rkhna chahte h, user ko nhi dikhna chahte h \\n\\ntaki koi v ,kuch v change na kr de\\n\\n'"
      ]
     },
     "execution_count": 5,
     "metadata": {},
     "output_type": "execute_result"
    }
   ],
   "source": [
    "'''\n",
    "Encapusulation =\n",
    "\n",
    "cize ho ham private rkhna chahte h, user ko nhi dikhna chahte h \n",
    "\n",
    "taki koi v ,kuch v change na kr de\n",
    "\n",
    "'''"
   ]
  },
  {
   "cell_type": "code",
   "execution_count": 7,
   "metadata": {},
   "outputs": [
    {
     "data": {
      "text/plain": [
       "'\\nham nhi chahte ki , (jaise ham class bnayi) ,koi v uske struture ke sath modification kare\\n\\nto ham usko encapsulate kar dete h , \\n\\nisse , koi v , unnecessary codes ko nhi modify kar skta\\n\\n'"
      ]
     },
     "execution_count": 7,
     "metadata": {},
     "output_type": "execute_result"
    }
   ],
   "source": [
    "'''\n",
    "ham nhi chahte ki , (jaise ham class bnayi) ,koi v uske struture ke sath modification kare\n",
    "\n",
    "to ham usko encapsulate kar dete h , \n",
    "\n",
    "isse , koi v , unnecessary codes ko nhi modify kar skta\n",
    "\n",
    "'''"
   ]
  },
  {
   "cell_type": "code",
   "execution_count": 8,
   "metadata": {},
   "outputs": [],
   "source": [
    "class car:\n",
    "\n",
    "    def __init__(self,year,make,model,speed) : \n",
    "         self.__year = year\n",
    "         self.__make = make        # __ (double underscore) use karte h data ko users se hid karne ke liye\n",
    "         self.__model = model\n",
    "         self.__speed = 0\n"
   ]
  },
  {
   "cell_type": "code",
   "execution_count": 9,
   "metadata": {},
   "outputs": [],
   "source": [
    "c = car(2021,\"toyata\" , \"innova\",12)"
   ]
  },
  {
   "cell_type": "code",
   "execution_count": 10,
   "metadata": {},
   "outputs": [
    {
     "ename": "AttributeError",
     "evalue": "'car' object has no attribute 'year'",
     "output_type": "error",
     "traceback": [
      "\u001b[1;31m---------------------------------------------------------------------------\u001b[0m",
      "\u001b[1;31mAttributeError\u001b[0m                            Traceback (most recent call last)",
      "\u001b[1;32me:\\Anupam Mishra\\Data Science Course\\Main Lecture\\14.Encapsulation.ipynb Cell 10\u001b[0m line \u001b[0;36m1\n\u001b[1;32m----> <a href='vscode-notebook-cell:/e%3A/Anupam%20Mishra/Data%20Science%20Course/Main%20Lecture/14.Encapsulation.ipynb#X14sZmlsZQ%3D%3D?line=0'>1</a>\u001b[0m c\u001b[39m.\u001b[39;49myear\n",
      "\u001b[1;31mAttributeError\u001b[0m: 'car' object has no attribute 'year'"
     ]
    }
   ],
   "source": [
    "c.year"
   ]
  },
  {
   "cell_type": "code",
   "execution_count": 11,
   "metadata": {},
   "outputs": [
    {
     "ename": "AttributeError",
     "evalue": "'car' object has no attribute '__year'",
     "output_type": "error",
     "traceback": [
      "\u001b[1;31m---------------------------------------------------------------------------\u001b[0m",
      "\u001b[1;31mAttributeError\u001b[0m                            Traceback (most recent call last)",
      "\u001b[1;32me:\\Anupam Mishra\\Data Science Course\\Main Lecture\\14.Encapsulation.ipynb Cell 11\u001b[0m line \u001b[0;36m1\n\u001b[1;32m----> <a href='vscode-notebook-cell:/e%3A/Anupam%20Mishra/Data%20Science%20Course/Main%20Lecture/14.Encapsulation.ipynb#X15sZmlsZQ%3D%3D?line=0'>1</a>\u001b[0m c\u001b[39m.\u001b[39;49m__year\n",
      "\u001b[1;31mAttributeError\u001b[0m: 'car' object has no attribute '__year'"
     ]
    }
   ],
   "source": [
    "c.__year"
   ]
  },
  {
   "cell_type": "code",
   "execution_count": 12,
   "metadata": {},
   "outputs": [
    {
     "data": {
      "text/plain": [
       "2021"
      ]
     },
     "execution_count": 12,
     "metadata": {},
     "output_type": "execute_result"
    }
   ],
   "source": [
    "c._car__year"
   ]
  },
  {
   "cell_type": "code",
   "execution_count": 14,
   "metadata": {},
   "outputs": [
    {
     "data": {
      "text/plain": [
       "'     \\nhidden data ko kaise access kar pa rhe dekhenge-( jise hamne encapsulate kar chuke h)\\n\\nc._car__year\\n\\n. (dot) ke baad single underscore (_) ke sath class ka name  , uske baad  double underscore (__) ke sath object \\n\\n\\ntab ja ke user hidden data ko access kar payenge\\n\\n\\n'"
      ]
     },
     "execution_count": 14,
     "metadata": {},
     "output_type": "execute_result"
    }
   ],
   "source": [
    "'''     \n",
    "hidden data ko kaise access kar pa rhe dekhenge-( jise hamne encapsulate kar chuke h)\n",
    "\n",
    "c._car__year\n",
    "\n",
    ". (dot) ke baad single underscore (_) ke sath class ka name  , uske baad  double underscore (__) ke sath object \n",
    "\n",
    "\n",
    "tab ja ke user hidden data ko access kar payenge\n",
    "\n",
    "\n",
    "'''\n",
    "# __ double underscore use karne se data private ho jata h \n",
    "        # jisko ham direct access nhi kar skte h"
   ]
  },
  {
   "cell_type": "code",
   "execution_count": 18,
   "metadata": {},
   "outputs": [],
   "source": [
    "class car:\n",
    "\n",
    "    def __init__(self,year,make,model,speed) : \n",
    "         self.__year = year\n",
    "         self.__make = make\n",
    "         self.__model = model\n",
    "         self.__speed = 0\n",
    "\n",
    "    def set_speed(self,speed):\n",
    "         self.__speed = 0 if speed < 0 else speed  \n",
    "\n",
    "    def get_speed (self)  :\n",
    "         return self.__speed      "
   ]
  },
  {
   "cell_type": "code",
   "execution_count": 19,
   "metadata": {},
   "outputs": [],
   "source": [
    "c = car(2021,\"toyata\" , \"innova\",12)"
   ]
  },
  {
   "cell_type": "code",
   "execution_count": 21,
   "metadata": {},
   "outputs": [],
   "source": [
    "c.set_speed(-3245)"
   ]
  },
  {
   "cell_type": "code",
   "execution_count": 22,
   "metadata": {},
   "outputs": [
    {
     "data": {
      "text/plain": [
       "0"
      ]
     },
     "execution_count": 22,
     "metadata": {},
     "output_type": "execute_result"
    }
   ],
   "source": [
    "c.get_speed()"
   ]
  },
  {
   "cell_type": "code",
   "execution_count": 23,
   "metadata": {},
   "outputs": [],
   "source": [
    "c.set_speed(234)"
   ]
  },
  {
   "cell_type": "code",
   "execution_count": 24,
   "metadata": {},
   "outputs": [
    {
     "data": {
      "text/plain": [
       "234"
      ]
     },
     "execution_count": 24,
     "metadata": {},
     "output_type": "execute_result"
    }
   ],
   "source": [
    "c.get_speed()"
   ]
  },
  {
   "cell_type": "code",
   "execution_count": 25,
   "metadata": {},
   "outputs": [
    {
     "data": {
      "text/plain": [
       "'\\nclass car:\\n\\n    def __init__(self,year,make,model,speed) : \\n         self.__year = year\\n         self.__make = make\\n         self.__model = model\\n         self.__speed = 0\\n\\n\\n # iss function se ham direct access na de kar user ko \\n\\n     # ham ,function define kar denge jisse , uss function ke condition ke according hi user \\n          data ko access kar skta h , ya to modify kar skta h        \\n\\n\\n   def set_speed(self,speed):                              # iss function se speed modify kar rhe h\\n         self.__speed = 0 if speed < 0 else speed  \\n\\n    def get_speed (self)  :                             # iss function se ham modified data ko pa rhe h\\n         return self.__speed \\n\\n\\n     '"
      ]
     },
     "execution_count": 25,
     "metadata": {},
     "output_type": "execute_result"
    }
   ],
   "source": [
    "'''\n",
    "class car:\n",
    "\n",
    "    def __init__(self,year,make,model,speed) : \n",
    "         self.__year = year\n",
    "         self.__make = make\n",
    "         self.__model = model\n",
    "         self.__speed = 0\n",
    "\n",
    "\n",
    " # iss function se ham direct access na de kar user ko \n",
    "\n",
    "     # ham ,function define kar denge jisse , uss function ke condition ke according hi user \n",
    "          data ko access kar skta h , ya to modify kar skta h        \n",
    "\n",
    "\n",
    "   def set_speed(self,speed):                              # iss function se speed modify kar rhe h\n",
    "         self.__speed = 0 if speed < 0 else speed  \n",
    "\n",
    "    def get_speed (self)  :                             # iss function se ham modified data ko pa rhe h\n",
    "         return self.__speed \n",
    "\n",
    "\n",
    "     '''"
   ]
  },
  {
   "cell_type": "markdown",
   "metadata": {},
   "source": [
    "### yek bank account ka condition le rhe h, \n",
    "\n",
    "1. Balance kitna h\n",
    "2. Deposit karna h\n",
    "3. withdraw karna h (sath me dekhenge ki amount balance ke jada hai ki barabar h balance ke )\n",
    "4. finaly kitna balance bcha h"
   ]
  },
  {
   "cell_type": "code",
   "execution_count": 27,
   "metadata": {},
   "outputs": [],
   "source": [
    "class bank_account:\n",
    "    def __init__(self,Balance):\n",
    "        self.__Balance = Balance\n",
    "\n",
    "    def deposite(self,amount):\n",
    "        self.__Balance = self.__Balance +  amount \n",
    "\n",
    "    def withdraw(self , amount):\n",
    "        if self.__Balance >= amount:\n",
    "            self.__Balance = self.__Balance - amount\n",
    "            return True\n",
    "\n",
    "        else:\n",
    "            return False\n",
    "\n",
    "    def get_balance(self):\n",
    "        return self.__Balance          "
   ]
  },
  {
   "cell_type": "code",
   "execution_count": 29,
   "metadata": {},
   "outputs": [],
   "source": [
    "sudh = bank_account(1000)"
   ]
  },
  {
   "cell_type": "code",
   "execution_count": 30,
   "metadata": {},
   "outputs": [
    {
     "data": {
      "text/plain": [
       "1000"
      ]
     },
     "execution_count": 30,
     "metadata": {},
     "output_type": "execute_result"
    }
   ],
   "source": [
    "sudh.get_balance()"
   ]
  },
  {
   "cell_type": "code",
   "execution_count": 31,
   "metadata": {},
   "outputs": [],
   "source": [
    "sudh.deposite(5000)"
   ]
  },
  {
   "cell_type": "code",
   "execution_count": 32,
   "metadata": {},
   "outputs": [
    {
     "data": {
      "text/plain": [
       "6000"
      ]
     },
     "execution_count": 32,
     "metadata": {},
     "output_type": "execute_result"
    }
   ],
   "source": [
    "sudh.get_balance()"
   ]
  },
  {
   "cell_type": "code",
   "execution_count": 33,
   "metadata": {},
   "outputs": [
    {
     "data": {
      "text/plain": [
       "True"
      ]
     },
     "execution_count": 33,
     "metadata": {},
     "output_type": "execute_result"
    }
   ],
   "source": [
    "sudh.withdraw(3000)"
   ]
  },
  {
   "cell_type": "code",
   "execution_count": 34,
   "metadata": {},
   "outputs": [
    {
     "data": {
      "text/plain": [
       "3000"
      ]
     },
     "execution_count": 34,
     "metadata": {},
     "output_type": "execute_result"
    }
   ],
   "source": [
    "sudh.get_balance()"
   ]
  },
  {
   "cell_type": "code",
   "execution_count": 36,
   "metadata": {},
   "outputs": [
    {
     "data": {
      "text/plain": [
       "False"
      ]
     },
     "execution_count": 36,
     "metadata": {},
     "output_type": "execute_result"
    }
   ],
   "source": [
    "sudh.withdraw(4000)"
   ]
  },
  {
   "cell_type": "code",
   "execution_count": 37,
   "metadata": {},
   "outputs": [
    {
     "data": {
      "text/plain": [
       "3000"
      ]
     },
     "execution_count": 37,
     "metadata": {},
     "output_type": "execute_result"
    }
   ],
   "source": [
    "sudh.get_balance()"
   ]
  },
  {
   "cell_type": "code",
   "execution_count": 38,
   "metadata": {},
   "outputs": [],
   "source": [
    "sudh.deposite(10000)"
   ]
  },
  {
   "cell_type": "code",
   "execution_count": 40,
   "metadata": {},
   "outputs": [
    {
     "data": {
      "text/plain": [
       "13000"
      ]
     },
     "execution_count": 40,
     "metadata": {},
     "output_type": "execute_result"
    }
   ],
   "source": [
    "sudh.get_balance()"
   ]
  },
  {
   "cell_type": "code",
   "execution_count": null,
   "metadata": {},
   "outputs": [],
   "source": []
  }
 ],
 "metadata": {
  "kernelspec": {
   "display_name": "Python 3",
   "language": "python",
   "name": "python3"
  },
  "language_info": {
   "codemirror_mode": {
    "name": "ipython",
    "version": 3
   },
   "file_extension": ".py",
   "mimetype": "text/x-python",
   "name": "python",
   "nbconvert_exporter": "python",
   "pygments_lexer": "ipython3",
   "version": "3.11.5"
  }
 },
 "nbformat": 4,
 "nbformat_minor": 2
}
