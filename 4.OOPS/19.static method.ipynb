{
 "cells": [
  {
   "cell_type": "markdown",
   "metadata": {},
   "source": [
    "### Static Method"
   ]
  },
  {
   "cell_type": "code",
   "execution_count": 1,
   "metadata": {},
   "outputs": [],
   "source": [
    "class pwskills:\n",
    "\n",
    "    def students_details(self,name,mail_id,number):\n",
    "        print(name,mail_id,number)\n"
   ]
  },
  {
   "cell_type": "code",
   "execution_count": 2,
   "metadata": {},
   "outputs": [],
   "source": [
    "pw = pwskills()"
   ]
  },
  {
   "cell_type": "code",
   "execution_count": 3,
   "metadata": {},
   "outputs": [
    {
     "name": "stdout",
     "output_type": "stream",
     "text": [
      "sudh sudh@gmail.com 938302840\n"
     ]
    }
   ],
   "source": [
    "pw.students_details(\"sudh\",\"sudh@gmail.com\",938302840)"
   ]
  },
  {
   "cell_type": "code",
   "execution_count": 4,
   "metadata": {},
   "outputs": [],
   "source": [
    "# hame yek function bnana h , jise bina object create kiye huye ham access kar paye"
   ]
  },
  {
   "cell_type": "code",
   "execution_count": 6,
   "metadata": {},
   "outputs": [],
   "source": [
    "class pwskills1:\n",
    "\n",
    "    def students_details(self,name,mail_id,number):\n",
    "        print(name,mail_id,number)\n",
    "    \n",
    "    @staticmethod\n",
    "    def mentor_class(list_mentor):\n",
    "        print(list_mentor)"
   ]
  },
  {
   "cell_type": "code",
   "execution_count": 7,
   "metadata": {},
   "outputs": [
    {
     "name": "stdout",
     "output_type": "stream",
     "text": [
      "['sudh', 'krish']\n"
     ]
    }
   ],
   "source": [
    "pwskills1.mentor_class([\"sudh\",\"krish\"])"
   ]
  },
  {
   "cell_type": "code",
   "execution_count": null,
   "metadata": {},
   "outputs": [],
   "source": []
  },
  {
   "cell_type": "markdown",
   "metadata": {},
   "source": [
    "\n",
    "Class method vs Static Method:\n",
    "\n",
    "The difference between the Class method and the static method is:\n",
    "\n",
    "1.A class method takes cls as the first parameter while a static method needs no specific parameters.\n",
    "\n",
    "2.A class method can access or modify the class state while a static method can’t access or modify it.\n",
    "\n",
    "3.In general, static methods know nothing about the class state. They are utility-type methods that take some parameters and work upon those parameters. On the other hand class methods must have class as a parameter.\n",
    "\n",
    "4.We use @classmethod decorator in python to create a class method and we use @staticmethod decorator to create a static method in python."
   ]
  },
  {
   "cell_type": "code",
   "execution_count": 8,
   "metadata": {},
   "outputs": [
    {
     "data": {
      "text/plain": [
       "'\\nagr hme students_details ko access karna h to uske liye hame object bnana hi pdhega,\\nkyuki ye class ke instance se juda hua h\\n '"
      ]
     },
     "execution_count": 8,
     "metadata": {},
     "output_type": "execute_result"
    }
   ],
   "source": [
    "'''class pwskills1:\n",
    "\n",
    "    def students_details(self,name,mail_id,number):\n",
    "        print(name,mail_id,number)\n",
    "    \n",
    "    @staticmethod\n",
    "    def mentor_class(list_mentor):\n",
    "        print(list_mentor)'''\n",
    "\n",
    "\n",
    "'''\n",
    "agr hme students_details ko access karna h to uske liye hame object bnana hi pdhega,\n",
    "kyuki ye class ke instance se juda hua h\n",
    " '''        "
   ]
  },
  {
   "cell_type": "code",
   "execution_count": 9,
   "metadata": {},
   "outputs": [],
   "source": [
    "stu1 = pwskills1()    # def students_details(self,name,mail_id,number):\n",
    "                                     #print(name,mail_id,number)\n",
    "                           # iss function ka copy create ho jata h         "
   ]
  },
  {
   "cell_type": "code",
   "execution_count": 10,
   "metadata": {},
   "outputs": [],
   "source": [
    "stu2 = pwskills1()    # esa har baar hota h , new new copy creates ho jate h"
   ]
  },
  {
   "cell_type": "code",
   "execution_count": 11,
   "metadata": {},
   "outputs": [],
   "source": [
    "stu3 = pwskills1()    # ye bhut lengthy ho jata h"
   ]
  },
  {
   "cell_type": "code",
   "execution_count": 15,
   "metadata": {},
   "outputs": [],
   "source": [
    "class pwskills1:\n",
    "\n",
    "    def students_details(self,name,mail_id,number):\n",
    "        print(name,mail_id,number)\n",
    "    \n",
    "    @staticmethod\n",
    "    def mentor_class(list_mentor):   # isko object bnane ki jrurt nhi h\n",
    "        print(list_mentor)\n",
    "\n",
    "    def mentor(self,mentor_list):    # isko ham object bna kar hi access kar skte h \n",
    "        print(mentor_list)    # jitni baar access karna hoga utni baar hame object bnana hoga"
   ]
  },
  {
   "cell_type": "code",
   "execution_count": 17,
   "metadata": {},
   "outputs": [],
   "source": [
    "stu1=pwskills1()"
   ]
  },
  {
   "cell_type": "code",
   "execution_count": 18,
   "metadata": {},
   "outputs": [
    {
     "name": "stdout",
     "output_type": "stream",
     "text": [
      "['Anu', 'Sohail']\n"
     ]
    }
   ],
   "source": [
    "stu1.mentor([\"Anu\",\"Sohail\"])"
   ]
  },
  {
   "cell_type": "code",
   "execution_count": 19,
   "metadata": {},
   "outputs": [],
   "source": [
    "# ye mentor stu2 and stu3 ke liye nhi h , unke liye hame phir define karna hoga\n",
    "\n",
    "# issi liye prefered way nhi h\n",
    "\n",
    "# tb ham static method ka use karte h"
   ]
  },
  {
   "cell_type": "code",
   "execution_count": 29,
   "metadata": {},
   "outputs": [],
   "source": [
    "class pwskills3:\n",
    "\n",
    "    def students_details(self,name,mail_id,number):  # ye instance function khlate h\n",
    "        print(name,mail_id,number)\n",
    "    \n",
    "    @staticmethod\n",
    "    def mentor_class(list_mentor):   # ye static function h\n",
    "        print(list_mentor)\n",
    "\n",
    "    @classmethod\n",
    "    def class_name(cls):\n",
    "        cls.mentor_class()    \n",
    "\n",
    "    def mentor(self,mentor_list):    # ye instance function h\n",
    "        print(mentor_list) "
   ]
  },
  {
   "cell_type": "code",
   "execution_count": 21,
   "metadata": {},
   "outputs": [],
   "source": [
    "# how to use staticmethod inside classmethod or instance function?\n",
    "# Let's see"
   ]
  },
  {
   "cell_type": "code",
   "execution_count": 30,
   "metadata": {},
   "outputs": [
    {
     "ename": "TypeError",
     "evalue": "pwskills3.mentor_class() missing 1 required positional argument: 'list_mentor'",
     "output_type": "error",
     "traceback": [
      "\u001b[1;31m---------------------------------------------------------------------------\u001b[0m",
      "\u001b[1;31mTypeError\u001b[0m                                 Traceback (most recent call last)",
      "\u001b[1;32me:\\Anupam Mishra\\Data Science Course\\Main Lecture\\19.static method.ipynb Cell 20\u001b[0m line \u001b[0;36m1\n\u001b[1;32m----> <a href='vscode-notebook-cell:/e%3A/Anupam%20Mishra/Data%20Science%20Course/Main%20Lecture/19.static%20method.ipynb#X31sZmlsZQ%3D%3D?line=0'>1</a>\u001b[0m pwskills3\u001b[39m.\u001b[39;49mclass_name()  \u001b[39m# hame data nhi diya iss liye error aaya cls.mentor () ke andr\u001b[39;00m\n",
      "\u001b[1;32me:\\Anupam Mishra\\Data Science Course\\Main Lecture\\19.static method.ipynb Cell 20\u001b[0m line \u001b[0;36m1\n\u001b[0;32m     <a href='vscode-notebook-cell:/e%3A/Anupam%20Mishra/Data%20Science%20Course/Main%20Lecture/19.static%20method.ipynb#X31sZmlsZQ%3D%3D?line=9'>10</a>\u001b[0m \u001b[39m@classmethod\u001b[39m\n\u001b[0;32m     <a href='vscode-notebook-cell:/e%3A/Anupam%20Mishra/Data%20Science%20Course/Main%20Lecture/19.static%20method.ipynb#X31sZmlsZQ%3D%3D?line=10'>11</a>\u001b[0m \u001b[39mdef\u001b[39;00m \u001b[39mclass_name\u001b[39m(\u001b[39mcls\u001b[39m):\n\u001b[1;32m---> <a href='vscode-notebook-cell:/e%3A/Anupam%20Mishra/Data%20Science%20Course/Main%20Lecture/19.static%20method.ipynb#X31sZmlsZQ%3D%3D?line=11'>12</a>\u001b[0m     \u001b[39mcls\u001b[39;49m\u001b[39m.\u001b[39;49mmentor_class()\n",
      "\u001b[1;31mTypeError\u001b[0m: pwskills3.mentor_class() missing 1 required positional argument: 'list_mentor'"
     ]
    }
   ],
   "source": [
    "pwskills3.class_name()  # hame data nhi diya iss liye error aaya cls.mentor () ke andr"
   ]
  },
  {
   "cell_type": "code",
   "execution_count": 36,
   "metadata": {},
   "outputs": [],
   "source": [
    "class pwskills3:\n",
    "\n",
    "    def students_details(self,name,mail_id,number):\n",
    "        print(name,mail_id,number)\n",
    "    \n",
    "    @staticmethod\n",
    "    def mentor_class(list_mentor): \n",
    "        print(list_mentor)\n",
    "\n",
    "    @classmethod          \n",
    "    def class_name(cls):\n",
    "        cls.mentor_class([\"Subodh\",\"sohail\"])    # classmethod ke andr staticmethod ko use kar rhe h\n",
    "\n",
    "    def mentor(self,mentor_list):    \n",
    "        print(mentor_list) "
   ]
  },
  {
   "cell_type": "code",
   "execution_count": 34,
   "metadata": {},
   "outputs": [
    {
     "name": "stdout",
     "output_type": "stream",
     "text": [
      "['Subodh', 'sohail']\n"
     ]
    }
   ],
   "source": [
    "pwskills3.class_name()  # yha pr error nhi aaya , kyuki ham ne data diya h"
   ]
  },
  {
   "cell_type": "code",
   "execution_count": 39,
   "metadata": {},
   "outputs": [],
   "source": [
    "class pwskills3:\n",
    "\n",
    "    def students_details(self,name,mail_id,number):\n",
    "        print(name,mail_id,number)\n",
    "    \n",
    "    @staticmethod\n",
    "    def mentor_mail_id(mail_id_mentor):\n",
    "        print(mail_id_mentor)\n",
    "\n",
    "\n",
    "    @staticmethod\n",
    "    def mentor_class(list_mentor): \n",
    "        pwskills3.mentor_mail_id([\"s@gmail.com\",\"sss@gmail.com\"]) \n",
    "        print(list_mentor)  # static method ke andr static mentod ko use kar rhe h\n",
    "\n",
    "    @classmethod         \n",
    "    def class_name(cls):\n",
    "        cls.mentor_class([\"Subodh\",\"sohail\"]) \n",
    "\n",
    "    def mentor(self,mentor_list):    \n",
    "        print(mentor_list) "
   ]
  },
  {
   "cell_type": "code",
   "execution_count": 38,
   "metadata": {},
   "outputs": [
    {
     "name": "stdout",
     "output_type": "stream",
     "text": [
      "['s@gmail.com', 'sss@gmail.com']\n",
      "['subodh', 'sohail']\n"
     ]
    }
   ],
   "source": [
    "pwskills3.mentor_class([\"subodh\",\"sohail\"])"
   ]
  },
  {
   "cell_type": "code",
   "execution_count": 1,
   "metadata": {},
   "outputs": [],
   "source": [
    "class pwskills3:\n",
    "\n",
    "    def students_details(self,name,mail_id,number):\n",
    "        print(name,mail_id,number)\n",
    "    \n",
    "    # @staticmethod\n",
    "    # def mentor_mail_id(mail_id_mentor):\n",
    "    #     print(mail_id_mentor)\n",
    "\n",
    "\n",
    "    @staticmethod\n",
    "    def mentor_class(list_mentor): \n",
    "        #pwskills3.mentor_mail_id([\"s@gmail.com\",\"sss@gmail.com\"]) \n",
    "        print(list_mentor)\n",
    "\n",
    "    # @classmethod         \n",
    "    # def class_name(cls):\n",
    "    #     cls.mentor_class([\"Subodh\",\"sohail\"]) \n",
    "\n",
    "    def mentor(self,mentor_list):    \n",
    "        print(mentor_list)   # instance function ke andr static method ko use kar rhe h\n",
    "        self.mentor_class([\"anup\",\"shiv\"])"
   ]
  },
  {
   "cell_type": "code",
   "execution_count": 2,
   "metadata": {},
   "outputs": [],
   "source": [
    "pw = pwskills3()"
   ]
  },
  {
   "cell_type": "code",
   "execution_count": 3,
   "metadata": {},
   "outputs": [
    {
     "name": "stdout",
     "output_type": "stream",
     "text": [
      "['anupam', 'shivanshu']\n",
      "['anup', 'shiv']\n"
     ]
    }
   ],
   "source": [
    "pw.mentor([\"anupam\",\"shivanshu\"])"
   ]
  },
  {
   "cell_type": "code",
   "execution_count": null,
   "metadata": {},
   "outputs": [],
   "source": []
  }
 ],
 "metadata": {
  "kernelspec": {
   "display_name": "Python 3",
   "language": "python",
   "name": "python3"
  },
  "language_info": {
   "codemirror_mode": {
    "name": "ipython",
    "version": 3
   },
   "file_extension": ".py",
   "mimetype": "text/x-python",
   "name": "python",
   "nbconvert_exporter": "python",
   "pygments_lexer": "ipython3",
   "version": "3.11.5"
  }
 },
 "nbformat": 4,
 "nbformat_minor": 2
}
